{
 "cells": [
  {
   "attachments": {},
   "cell_type": "markdown",
   "metadata": {},
   "source": [
    "# **Analysis of decoding results**"
   ]
  },
  {
   "attachments": {},
   "cell_type": "markdown",
   "metadata": {},
   "source": [
    "## **Libraries**"
   ]
  },
  {
   "cell_type": "code",
   "execution_count": 87,
   "metadata": {},
   "outputs": [],
   "source": [
    "#%pip install pandas matplotlib seaborn nltk sacrebleu"
   ]
  },
  {
   "cell_type": "code",
   "execution_count": 88,
   "metadata": {},
   "outputs": [],
   "source": [
    "import os\n",
    "import warnings\n",
    "\n",
    "import pandas as pd\n",
    "import seaborn as sns\n",
    "import matplotlib.pyplot as plt \n",
    "import nltk\n",
    "import sacrebleu\n",
    "\n",
    "import constants"
   ]
  },
  {
   "attachments": {},
   "cell_type": "markdown",
   "metadata": {},
   "source": [
    "## **Directories**"
   ]
  },
  {
   "cell_type": "code",
   "execution_count": 89,
   "metadata": {},
   "outputs": [],
   "source": [
    "RESULTS_FOLDER = constants.RESULTS_DATA_FOLDER\n",
    "INSPECTED_FOLDER = constants.INSPECTED_DATA_FOLDER\n",
    "\n",
    "DECODED_OUTPUTS_FILENAME = 'split_decode_checkpoint_100-80.log'#'first_decode_checkpoint_100-50.log'#\n",
    "DECODED_OUTPUTS_FILEPATH = os.path.join(INSPECTED_FOLDER, DECODED_OUTPUTS_FILENAME)\n",
    "REFERENCE_SOURCE_FILENAME = 'valid_gn.txt.gn' #'first_val_gn.txt'#\n",
    "REFERENCE_SOURCE_FILEPATH = os.path.join(INSPECTED_FOLDER, REFERENCE_SOURCE_FILENAME)\n",
    "REFERENCE_DESTINATION_FILENAME = 'valid_es.txt.es' #'first_val_es.txt'#\n",
    "REFERENCE_DESTINATION_FILEPATH = os.path.join(INSPECTED_FOLDER, REFERENCE_DESTINATION_FILENAME)\n",
    "FIRST_DECODING_RESULTS_FOLDER = os.path.join(RESULTS_FOLDER, 'first_decode_checkpoint_100-50')\n",
    "CURRENT_RESULTS_FOLDER = os.path.join(FIRST_DECODING_RESULTS_FOLDER, DECODED_OUTPUTS_FILENAME.split('.')[0])\n",
    "\n",
    "if not os.path.exists(FIRST_DECODING_RESULTS_FOLDER):\n",
    "    os.makedirs(FIRST_DECODING_RESULTS_FOLDER)\n",
    "\n",
    "if not os.path.exists(CURRENT_RESULTS_FOLDER):\n",
    "    os.makedirs(CURRENT_RESULTS_FOLDER)"
   ]
  },
  {
   "cell_type": "code",
   "execution_count": 90,
   "metadata": {},
   "outputs": [],
   "source": [
    "with open(REFERENCE_SOURCE_FILEPATH, 'r', encoding='utf-8') as f:\n",
    "    reference_source_gn = f.readlines()\n",
    "\n",
    "with open(REFERENCE_DESTINATION_FILEPATH, 'r', encoding='utf-8') as f:\n",
    "    reference_destination_es = f.readlines()\n",
    "\n",
    "with open(DECODED_OUTPUTS_FILEPATH, 'r', encoding='utf-8') as f:\n",
    "    decoded_outputs = f.readlines()"
   ]
  },
  {
   "attachments": {},
   "cell_type": "markdown",
   "metadata": {},
   "source": [
    "## **Checking files**"
   ]
  },
  {
   "cell_type": "code",
   "execution_count": 91,
   "metadata": {},
   "outputs": [
    {
     "name": "stdout",
     "output_type": "stream",
     "text": [
      "Number of lines in reference source: 5310\n",
      "Number of lines in reference destination: 5310\n",
      "Number of lines in decoded outputs: 5309\n"
     ]
    }
   ],
   "source": [
    "print(f'Number of lines in reference source: {len(reference_source_gn)}')\n",
    "print(f'Number of lines in reference destination: {len(reference_destination_es)}')\n",
    "print(f'Number of lines in decoded outputs: {len(decoded_outputs)}')"
   ]
  },
  {
   "attachments": {},
   "cell_type": "markdown",
   "metadata": {},
   "source": [
    "There is a difference of 1 between the number of lines in the decoded outputs and the number of lines in the original inputs."
   ]
  },
  {
   "cell_type": "code",
   "execution_count": 92,
   "metadata": {},
   "outputs": [],
   "source": [
    "for idx, (elem_ref, elem_dest, decoded) in enumerate(zip(reference_source_gn, reference_destination_es, decoded_outputs)):\n",
    "    if elem_ref.strip() == '':\n",
    "        print(f'Empty line at index {idx} from reference source')\n",
    "\n",
    "    if elem_dest.strip() == '':\n",
    "        print(f'Empty line at index {idx} from reference destination')\n",
    "\n",
    "    if decoded.strip() == '':\n",
    "        print(f'Empty line at index {idx} from decoded outputs')"
   ]
  },
  {
   "attachments": {},
   "cell_type": "markdown",
   "metadata": {},
   "source": [
    "This extra line is not a problem, as the decoded file can output empty lines. However, it remains unclear why the length of the files are different."
   ]
  },
  {
   "attachments": {},
   "cell_type": "markdown",
   "metadata": {},
   "source": [
    "## **Score analysis**"
   ]
  },
  {
   "attachments": {},
   "cell_type": "markdown",
   "metadata": {},
   "source": [
    "### **Examples of BLEU score**"
   ]
  },
  {
   "cell_type": "code",
   "execution_count": 93,
   "metadata": {},
   "outputs": [],
   "source": [
    "def silence_warnings(func):\n",
    "    def wrapper(*args, **kwargs):\n",
    "        with warnings.catch_warnings():\n",
    "            warnings.simplefilter(\"ignore\")\n",
    "            return func(*args, **kwargs)\n",
    "    return wrapper"
   ]
  },
  {
   "cell_type": "code",
   "execution_count": 94,
   "metadata": {},
   "outputs": [],
   "source": [
    "correct_reference = ['Today', 'is', 'a', 'new', 'day']\n",
    "short_reference = ['Today']\n",
    "wrong_reference = ['Yesterday', 'was', 'a', 'good', 'day']\n",
    "\n",
    "translated = ['Today', 'is', 'a', 'new', 'day']"
   ]
  },
  {
   "attachments": {},
   "cell_type": "markdown",
   "metadata": {},
   "source": [
    "### **Classic BLEU**"
   ]
  },
  {
   "cell_type": "code",
   "execution_count": 95,
   "metadata": {},
   "outputs": [],
   "source": [
    "@silence_warnings\n",
    "def calculate_bleu(reference, translated, bleu_score_type='classic'):\n",
    "    classic_bleu_function = lambda reference, translated: nltk.translate.bleu_score.sentence_bleu([reference], translated)\n",
    "    one_gram_bleu_function = lambda reference, translated: nltk.translate.bleu_score.sentence_bleu([reference], translated, weights=(4, 0, 0, 0))\n",
    "    sacrebleu_function = lambda reference, translated: sacrebleu.corpus_bleu([' '.join(translated)], [[' '.join(reference)]]).score\n",
    "    \n",
    "    score_functions = {\n",
    "        'classic': classic_bleu_function,\n",
    "        'one-gram': one_gram_bleu_function,\n",
    "        'sacrebleu': sacrebleu_function\n",
    "    }\n",
    "\n",
    "    bleu_score = score_functions[bleu_score_type](reference, translated)\n",
    "    return bleu_score"
   ]
  },
  {
   "cell_type": "code",
   "execution_count": 96,
   "metadata": {},
   "outputs": [],
   "source": [
    "def create_bleu_scores_df(references, translated, bleu_score_types):\n",
    "    bleu_scores_df = {'reference': [], 'translation': [], 'metric': [], 'score': []}\n",
    "\n",
    "    for reference, translation in zip(references, translated):\n",
    "        for bleu_score_type in bleu_score_types:\n",
    "            bleu_score = calculate_bleu(reference, translation, bleu_score_type=bleu_score_type)\n",
    "            bleu_scores_df['reference'].append(' '.join(reference))\n",
    "            bleu_scores_df['translation'].append(' '.join(translation))\n",
    "            bleu_scores_df['metric'].append(bleu_score_type)\n",
    "            bleu_scores_df['score'].append(bleu_score)\n",
    "\n",
    "    return pd.DataFrame(bleu_scores_df)"
   ]
  },
  {
   "cell_type": "code",
   "execution_count": 97,
   "metadata": {},
   "outputs": [
    {
     "data": {
      "text/html": [
       "<style type=\"text/css\">\n",
       "</style>\n",
       "<table id=\"T_612dc\">\n",
       "  <thead>\n",
       "    <tr>\n",
       "      <th class=\"blank level0\" >&nbsp;</th>\n",
       "      <th id=\"T_612dc_level0_col0\" class=\"col_heading level0 col0\" >reference</th>\n",
       "      <th id=\"T_612dc_level0_col1\" class=\"col_heading level0 col1\" >translation</th>\n",
       "      <th id=\"T_612dc_level0_col2\" class=\"col_heading level0 col2\" >metric</th>\n",
       "      <th id=\"T_612dc_level0_col3\" class=\"col_heading level0 col3\" >score</th>\n",
       "    </tr>\n",
       "  </thead>\n",
       "  <tbody>\n",
       "    <tr>\n",
       "      <th id=\"T_612dc_level0_row0\" class=\"row_heading level0 row0\" >0</th>\n",
       "      <td id=\"T_612dc_row0_col0\" class=\"data row0 col0\" >Today is a new day</td>\n",
       "      <td id=\"T_612dc_row0_col1\" class=\"data row0 col1\" >Today is a new day</td>\n",
       "      <td id=\"T_612dc_row0_col2\" class=\"data row0 col2\" >classic</td>\n",
       "      <td id=\"T_612dc_row0_col3\" class=\"data row0 col3\" >1</td>\n",
       "    </tr>\n",
       "    <tr>\n",
       "      <th id=\"T_612dc_level0_row1\" class=\"row_heading level0 row1\" >1</th>\n",
       "      <td id=\"T_612dc_row1_col0\" class=\"data row1 col0\" >Today is a new day</td>\n",
       "      <td id=\"T_612dc_row1_col1\" class=\"data row1 col1\" >Today is a new day</td>\n",
       "      <td id=\"T_612dc_row1_col2\" class=\"data row1 col2\" >one-gram</td>\n",
       "      <td id=\"T_612dc_row1_col3\" class=\"data row1 col3\" >1</td>\n",
       "    </tr>\n",
       "    <tr>\n",
       "      <th id=\"T_612dc_level0_row2\" class=\"row_heading level0 row2\" >2</th>\n",
       "      <td id=\"T_612dc_row2_col0\" class=\"data row2 col0\" >Today is a new day</td>\n",
       "      <td id=\"T_612dc_row2_col1\" class=\"data row2 col1\" >Today is a new day</td>\n",
       "      <td id=\"T_612dc_row2_col2\" class=\"data row2 col2\" >sacrebleu</td>\n",
       "      <td id=\"T_612dc_row2_col3\" class=\"data row2 col3\" >100</td>\n",
       "    </tr>\n",
       "    <tr>\n",
       "      <th id=\"T_612dc_level0_row3\" class=\"row_heading level0 row3\" >3</th>\n",
       "      <td id=\"T_612dc_row3_col0\" class=\"data row3 col0\" >Today</td>\n",
       "      <td id=\"T_612dc_row3_col1\" class=\"data row3 col1\" >Today is a new day</td>\n",
       "      <td id=\"T_612dc_row3_col2\" class=\"data row3 col2\" >classic</td>\n",
       "      <td id=\"T_612dc_row3_col3\" class=\"data row3 col3\" >1.2183e-231</td>\n",
       "    </tr>\n",
       "    <tr>\n",
       "      <th id=\"T_612dc_level0_row4\" class=\"row_heading level0 row4\" >4</th>\n",
       "      <td id=\"T_612dc_row4_col0\" class=\"data row4 col0\" >Today</td>\n",
       "      <td id=\"T_612dc_row4_col1\" class=\"data row4 col1\" >Today is a new day</td>\n",
       "      <td id=\"T_612dc_row4_col2\" class=\"data row4 col2\" >one-gram</td>\n",
       "      <td id=\"T_612dc_row4_col3\" class=\"data row4 col3\" >0.0016</td>\n",
       "    </tr>\n",
       "    <tr>\n",
       "      <th id=\"T_612dc_level0_row5\" class=\"row_heading level0 row5\" >5</th>\n",
       "      <td id=\"T_612dc_row5_col0\" class=\"data row5 col0\" >Today</td>\n",
       "      <td id=\"T_612dc_row5_col1\" class=\"data row5 col1\" >Today is a new day</td>\n",
       "      <td id=\"T_612dc_row5_col2\" class=\"data row5 col2\" >sacrebleu</td>\n",
       "      <td id=\"T_612dc_row5_col3\" class=\"data row5 col3\" >10.682</td>\n",
       "    </tr>\n",
       "    <tr>\n",
       "      <th id=\"T_612dc_level0_row6\" class=\"row_heading level0 row6\" >6</th>\n",
       "      <td id=\"T_612dc_row6_col0\" class=\"data row6 col0\" >Yesterday was a good day</td>\n",
       "      <td id=\"T_612dc_row6_col1\" class=\"data row6 col1\" >Today is a new day</td>\n",
       "      <td id=\"T_612dc_row6_col2\" class=\"data row6 col2\" >classic</td>\n",
       "      <td id=\"T_612dc_row6_col3\" class=\"data row6 col3\" >1.4488e-231</td>\n",
       "    </tr>\n",
       "    <tr>\n",
       "      <th id=\"T_612dc_level0_row7\" class=\"row_heading level0 row7\" >7</th>\n",
       "      <td id=\"T_612dc_row7_col0\" class=\"data row7 col0\" >Yesterday was a good day</td>\n",
       "      <td id=\"T_612dc_row7_col1\" class=\"data row7 col1\" >Today is a new day</td>\n",
       "      <td id=\"T_612dc_row7_col2\" class=\"data row7 col2\" >one-gram</td>\n",
       "      <td id=\"T_612dc_row7_col3\" class=\"data row7 col3\" >0.0256</td>\n",
       "    </tr>\n",
       "    <tr>\n",
       "      <th id=\"T_612dc_level0_row8\" class=\"row_heading level0 row8\" >8</th>\n",
       "      <td id=\"T_612dc_row8_col0\" class=\"data row8 col0\" >Yesterday was a good day</td>\n",
       "      <td id=\"T_612dc_row8_col1\" class=\"data row8 col1\" >Today is a new day</td>\n",
       "      <td id=\"T_612dc_row8_col2\" class=\"data row8 col2\" >sacrebleu</td>\n",
       "      <td id=\"T_612dc_row8_col3\" class=\"data row8 col3\" >12.703</td>\n",
       "    </tr>\n",
       "  </tbody>\n",
       "</table>\n"
      ],
      "text/plain": [
       "<pandas.io.formats.style.Styler at 0x2b3b4772670>"
      ]
     },
     "execution_count": 97,
     "metadata": {},
     "output_type": "execute_result"
    }
   ],
   "source": [
    "example_dfs = []\n",
    "\n",
    "example_references = [correct_reference, short_reference, wrong_reference]\n",
    "bleu_scores_example_df = create_bleu_scores_df(example_references, [translated]*len(example_references), bleu_score_types=['classic', 'one-gram', 'sacrebleu'])\n",
    "example_dfs.append(bleu_scores_example_df)\n",
    "\n",
    "example_dfs = pd.concat(example_dfs)\n",
    "example_dfs.style.format({'score': '{:.5g}'})"
   ]
  },
  {
   "attachments": {},
   "cell_type": "markdown",
   "metadata": {},
   "source": [
    "### **BLEU score distribution**"
   ]
  },
  {
   "cell_type": "code",
   "execution_count": 98,
   "metadata": {},
   "outputs": [],
   "source": [
    "tokenized_reference_destination_es = [reference.split() for reference in reference_destination_es]\n",
    "tokenized_decoded_outputs = [decoded.split() for decoded in decoded_outputs]\n",
    "bleu_scores_df = create_bleu_scores_df(tokenized_reference_destination_es, tokenized_decoded_outputs, bleu_score_types=['classic', 'one-gram', 'sacrebleu'])"
   ]
  },
  {
   "cell_type": "code",
   "execution_count": 99,
   "metadata": {},
   "outputs": [],
   "source": [
    "save_path = os.path.join(CURRENT_RESULTS_FOLDER, 'bleu_scores.csv')\n",
    "bleu_scores_df.to_csv(save_path, index=False)"
   ]
  },
  {
   "cell_type": "code",
   "execution_count": 100,
   "metadata": {},
   "outputs": [
    {
     "name": "stdout",
     "output_type": "stream",
     "text": [
      "Metric: classic\n",
      "               score\n",
      "count   5.309000e+03\n",
      "mean    3.692234e-03\n",
      "std     2.728419e-02\n",
      "min     0.000000e+00\n",
      "25%    7.601159e-232\n",
      "50%    1.074966e-231\n",
      "75%    3.486671e-155\n",
      "max     6.687403e-01\n",
      "\n",
      "Metric: one-gram\n",
      "             score\n",
      "count  5309.000000\n",
      "mean      0.002665\n",
      "std       0.025213\n",
      "min       0.000000\n",
      "25%       0.000005\n",
      "50%       0.000201\n",
      "75%       0.000970\n",
      "max       1.000000\n",
      "\n",
      "Metric: sacrebleu\n",
      "             score\n",
      "count  5309.000000\n",
      "mean      2.297518\n",
      "std       3.309597\n",
      "min       0.000000\n",
      "25%       0.813143\n",
      "50%       1.639754\n",
      "75%       2.811052\n",
      "max      66.874030\n",
      "\n"
     ]
    }
   ],
   "source": [
    "for metric in bleu_scores_df['metric'].unique():\n",
    "    print(f'Metric: {metric}')\n",
    "    print(bleu_scores_df[bleu_scores_df['metric'] == metric].describe())\n",
    "    print()\n",
    "\n",
    "save_path = os.path.join(CURRENT_RESULTS_FOLDER, 'bleu_scores_summary.csv')\n",
    "bleu_scores_df.groupby(['metric']).describe().to_csv(save_path)"
   ]
  },
  {
   "attachments": {},
   "cell_type": "markdown",
   "metadata": {},
   "source": [
    "This does not align with the BLEU score returned by marian."
   ]
  },
  {
   "attachments": {},
   "cell_type": "markdown",
   "metadata": {},
   "source": [
    "TODO: Sentences shorter than 4 words are not well-suited for BLEU scoring."
   ]
  },
  {
   "cell_type": "code",
   "execution_count": 101,
   "metadata": {},
   "outputs": [],
   "source": [
    "bleu_classic_scores = bleu_scores_df[bleu_scores_df['metric'] == 'classic']['score']\n",
    "sacrebleu_scores = bleu_scores_df[bleu_scores_df['metric'] == 'sacrebleu']['score']"
   ]
  },
  {
   "cell_type": "code",
   "execution_count": 102,
   "metadata": {},
   "outputs": [],
   "source": [
    "def plot_scores(scores, titles, xlabel, save_path=None):\n",
    "    fig, ax = plt.subplots(nrows=1, ncols=len(scores), figsize=(15, 5))\n",
    "    sns.set_style('darkgrid')\n",
    "    for idx, (score, title) in enumerate(zip(scores, titles)):\n",
    "        current_ax = ax[idx] if len(scores) > 1 else ax\n",
    "        sns.kdeplot(score, fill=True, ax=current_ax)\n",
    "        current_ax.set(xlabel=xlabel, ylabel='Density', title=title)\n",
    "\n",
    "    if save_path is not None:\n",
    "        plt.savefig(save_path)\n",
    "        sns.set_style('darkgrid')"
   ]
  },
  {
   "cell_type": "code",
   "execution_count": 103,
   "metadata": {},
   "outputs": [
    {
     "name": "stdout",
     "output_type": "stream",
     "text": [
      "Number of positive BLEU scores: 5309\n",
      "Number of non-negligible BLEU scores: 177\n",
      "Number of acceptable BLEU scores: 11\n"
     ]
    },
    {
     "data": {
      "image/png": "[encoded data removed]",
      "text/plain": [
       "<Figure size 1500x500 with 3 Axes>"
      ]
     },
     "metadata": {},
     "output_type": "display_data"
    }
   ],
   "source": [
    "acceptance_threshold = 0.3\n",
    "epsilon = 0.0001\n",
    "\n",
    "non_negligible_bleu_scores = [score for score in bleu_classic_scores if score > epsilon]\n",
    "acceptable = [score for score in bleu_classic_scores if score > acceptance_threshold]\n",
    "\n",
    "print(f'Number of positive BLEU scores: {len(bleu_classic_scores)}')\n",
    "print(f'Number of non-negligible BLEU scores: {len(non_negligible_bleu_scores)}')\n",
    "print(f'Number of acceptable BLEU scores: {len(acceptable)}')\n",
    "\n",
    "save_path = os.path.join(CURRENT_RESULTS_FOLDER, 'bleu_scores.png')\n",
    "scores = [bleu_classic_scores, non_negligible_bleu_scores, acceptable]\n",
    "titles = ['All BLEU scores', f'Non-negligible BLEU scores (BLEU > {epsilon})', f'Acceptable BLEU scores (BLEU > {acceptance_threshold})']\n",
    "plot_scores(scores, titles, 'BLEU score', save_path=save_path)"
   ]
  },
  {
   "attachments": {},
   "cell_type": "markdown",
   "metadata": {},
   "source": [
    "### **Best BLEU scores**"
   ]
  },
  {
   "cell_type": "code",
   "execution_count": 104,
   "metadata": {},
   "outputs": [],
   "source": [
    "def get_ordered_score_indexes(scores, best=True, limit=3):\n",
    "    return sorted(range(len(scores)), key=lambda i: scores[i], reverse=best)[:limit]\n",
    "\n",
    "def show_translations(indexes, reference_source, reference_destination, decoded_outputs):\n",
    "    for idx in indexes:\n",
    "        print()\n",
    "        print(f'Index: {idx}')\n",
    "        print(f'Reference source: {reference_source[idx][:-1]}')\n",
    "        print(f'Reference destination: {reference_destination[idx][:-1]}')\n",
    "        print(f'Decoded output: {decoded_outputs[idx]}')\n",
    "        reference_destination_tokens = set(reference_destination[idx].strip().split(' '))\n",
    "        decoded_output_tokens = set(decoded_outputs[idx].strip().split(' '))\n",
    "        print(f'Reference destination tokens: {reference_destination_tokens}')\n",
    "        print(f'Decoded output tokens: {decoded_output_tokens}')\n",
    "        overlapping_words = reference_destination_tokens.intersection(decoded_output_tokens)\n",
    "        print(f'Overlapping words: {overlapping_words}')\n",
    "        print('------------------')"
   ]
  },
  {
   "cell_type": "code",
   "execution_count": 105,
   "metadata": {},
   "outputs": [
    {
     "name": "stdout",
     "output_type": "stream",
     "text": [
      "\n",
      "Index: 4104\n",
      "Reference source: Ehecha kora tairaity kódigo\n",
      "Reference destination: Ver código fuente del marco\n",
      "Decoded output: Ver código fuente del sitio\n",
      "\n",
      "Reference destination tokens: {'Ver', 'del', 'fuente', 'marco', 'código'}\n",
      "Decoded output tokens: {'Ver', 'del', 'fuente', 'sitio', 'código'}\n",
      "Overlapping words: {'fuente', 'Ver', 'código', 'del'}\n",
      "------------------\n",
      "\n",
      "Index: 4302\n",
      "Reference source: Guarani Ñe’ẽ Rerekuapavẽ Jehupytyrã\n",
      "Reference destination: Objetivo de la Academia de la Lengua Guaraní\n",
      "Decoded output: Academia de la Lengua Guaraní mayoritaria\n",
      "\n",
      "Reference destination tokens: {'Objetivo', 'Lengua', 'Guaraní', 'Academia', 'de', 'la'}\n",
      "Decoded output tokens: {'mayoritaria', 'Lengua', 'Guaraní', 'Academia', 'de', 'la'}\n",
      "Overlapping words: {'Lengua', 'Guaraní', 'Academia', 'de', 'la'}\n",
      "------------------\n",
      "\n",
      "Index: 4134\n",
      "Reference source: ta'angamýi iñongatupýva ndikatúi oñeñongatu\n",
      "Reference destination: El archivo de video no pudo ser guardado\n",
      "Decoded output: El archivo de video no válido a video\n",
      "\n",
      "Reference destination tokens: {'pudo', 'archivo', 'video', 'El', 'ser', 'no', 'de', 'guardado'}\n",
      "Decoded output tokens: {'archivo', 'video', 'El', 'a', 'no', 'válido', 'de'}\n",
      "Overlapping words: {'archivo', 'video', 'El', 'no', 'de'}\n",
      "------------------\n",
      "\n",
      "Index: 5106\n",
      "Reference source: PÑS SÃMBYHYHÁRA OMOIRŨ KUÑA OKARAYGUA ÁRA ÑEMOMORÃ.\n",
      "Reference destination: MINISTRA DE LA SPL ACOMPAÑÓ LA CELEBRACIÓN DEL DÍA DE LAS MUJERES RURALES.\n",
      "Decoded output: MINISTRA DE LA SPL ACOMPAÑÓ LA APERTURA DEL CONGRESO DE APERTURA\n",
      "\n",
      "Reference destination tokens: {'DE', 'LA', 'RURALES.', 'MINISTRA', 'SPL', 'DEL', 'LAS', 'MUJERES', 'ACOMPAÑÓ', 'DÍA', 'CELEBRACIÓN'}\n",
      "Decoded output tokens: {'DE', 'LA', 'CONGRESO', 'MINISTRA', 'SPL', 'DEL', 'APERTURA', 'ACOMPAÑÓ'}\n",
      "Overlapping words: {'DE', 'LA', 'MINISTRA', 'SPL', 'DEL', 'ACOMPAÑÓ'}\n",
      "------------------\n",
      "\n",
      "Index: 5271\n",
      "Reference source: Oñombyaty hikuái omba’apóvo tembipurupyahu hérava Zoom rupive.\n",
      "Reference destination: La reunión de trabajo se realizó mediante la plataforma Zoom de manera telemática.\n",
      "Decoded output: La reunión de trabajo se realizó en funcionarios regional de la SPL\n",
      "\n",
      "Reference destination tokens: {'Zoom', 'plataforma', 'se', 'telemática.', 'realizó', 'la', 'manera', 'de', 'La', 'reunión', 'trabajo', 'mediante'}\n",
      "Decoded output tokens: {'regional', 'se', 'funcionarios', 'en', 'realizó', 'la', 'SPL', 'de', 'La', 'reunión', 'trabajo'}\n",
      "Overlapping words: {'reunión', 'se', 'la', 'de', 'La', 'realizó', 'trabajo'}\n",
      "------------------\n",
      "\n",
      "Index: 4222\n",
      "Reference source: añetehápepa ehekyise ko angirũme?\n",
      "Reference destination: Estás seguro de querer eliminar este amigo?\n",
      "Decoded output: Estás seguro de querer ir a Cristo\n",
      "\n",
      "Reference destination tokens: {'seguro', 'Estás', 'este', 'amigo?', 'eliminar', 'de', 'querer'}\n",
      "Decoded output tokens: {'seguro', 'ir', 'Estás', 'Cristo', 'a', 'de', 'querer'}\n",
      "Overlapping words: {'de', 'querer', 'seguro', 'Estás'}\n",
      "------------------\n",
      "\n",
      "Index: 5099\n",
      "Reference source: CAAGUAZÚ TAVUSÚPE OJEHAPE'APO GUARANI JEPORUMEMERÃ.\n",
      "Reference destination: PLANIFICAN USO NORMAL DEL GUARANÍ EN CAAGUAZÚ.\n",
      "Decoded output: PLANIFICAN USO NORMAL DEL GUARANÍ EN EL CENTRO NACIONAL DE voy a CONTRABANDISTAS\n",
      "\n",
      "Reference destination tokens: {'NORMAL', 'CAAGUAZÚ.', 'EN', 'GUARANÍ', 'DEL', 'USO', 'PLANIFICAN'}\n",
      "Decoded output tokens: {'NORMAL', 'CENTRO', 'EN', 'DE', 'GUARANÍ', 'a', 'NACIONAL', 'EL', 'DEL', 'voy', 'USO', 'CONTRABANDISTAS', 'PLANIFICAN'}\n",
      "Overlapping words: {'NORMAL', 'EN', 'GUARANÍ', 'DEL', 'USO', 'PLANIFICAN'}\n",
      "------------------\n",
      "\n",
      "Index: 5177\n",
      "Reference source: Paraguái Ñe'ẽnguéra Sãmbyhyhárape omoirũ Ypykuéra Ñe'ẽ Ñeñongatu ha Ñemombarete Moakãharapavẽ, María De las Nieves Montiel.\n",
      "Reference destination: La Ministra de la Secretaría de Políticas Lingũísticas fue acompaña por la Directora General de Documentación y Promoción de Lenguas Indígenas, María De las Nieves Montiel.\n",
      "Decoded output: La Ministra de la SPL estuvo acompañada por la Directora General de Documentación y Promoción de Lenguas Indígenas de la Secretaría Nacional de Cultura y a la Dirección Nacional de Documentación y Empleo\n",
      "\n",
      "Reference destination tokens: {'Directora', 'Montiel.', 'y', 'Secretaría', 'María', 'Indígenas,', 'las', 'acompaña', 'General', 'Políticas', 'Documentación', 'Nieves', 'De', 'Promoción', 'Lingũísticas', 'La', 'por', 'fue', 'Ministra', 'de', 'la', 'Lenguas'}\n",
      "Decoded output tokens: {'Directora', 'y', 'Indígenas', 'Secretaría', 'Nacional', 'Empleo', 'estuvo', 'SPL', 'Dirección', 'General', 'Documentación', 'Promoción', 'La', 'por', 'Cultura', 'acompañada', 'Ministra', 'a', 'de', 'la', 'Lenguas'}\n",
      "Overlapping words: {'Directora', 'y', 'General', 'Ministra', 'Secretaría', 'Documentación', 'Promoción', 'de', 'La', 'por', 'la', 'Lenguas'}\n",
      "------------------\n",
      "\n",
      "Index: 4930\n",
      "Reference source: GUARANI JEPORUMEME MISIONES TAVUSÚPE.\n",
      "Reference destination: INICIA PROCESO DE NORMALIZACIÓN DEL GUARANÍ EN MISIONES.\n",
      "Decoded output: MUNICIPALIDAD DE NORMALIZACIÓN DEL GUARANÍ\n",
      "\n",
      "Reference destination tokens: {'MISIONES.', 'NORMALIZACIÓN', 'EN', 'DE', 'GUARANÍ', 'INICIA', 'DEL', 'PROCESO'}\n",
      "Decoded output tokens: {'NORMALIZACIÓN', 'DE', 'MUNICIPALIDAD', 'GUARANÍ', 'DEL'}\n",
      "Overlapping words: {'DEL', 'DE', 'NORMALIZACIÓN', 'GUARANÍ'}\n",
      "------------------\n",
      "\n",
      "Index: 1935\n",
      "Reference source: Municipalidad de Asunción oñeinterveniva’erã\n",
      "Reference destination: La Municipalidad de Asunción     debe ser intervenida\n",
      "Decoded output: La Municipalidad de Asunción se reunió en Díaz\n",
      "\n",
      "Reference destination tokens: {'', 'Asunción', 'debe', 'intervenida', 'Municipalidad', 'ser', 'de', 'La'}\n",
      "Decoded output tokens: {'Asunción', 'Díaz', 'se', 'Municipalidad', 'en', 'de', 'La', 'reunió'}\n",
      "Overlapping words: {'de', 'Asunción', 'La', 'Municipalidad'}\n",
      "------------------\n"
     ]
    }
   ],
   "source": [
    "best_indexes = get_ordered_score_indexes(list(bleu_classic_scores), best=True, limit=10)\n",
    "show_translations(best_indexes, reference_source_gn, reference_destination_es, decoded_outputs)"
   ]
  },
  {
   "cell_type": "code",
   "execution_count": 106,
   "metadata": {},
   "outputs": [
    {
     "name": "stdout",
     "output_type": "stream",
     "text": [
      "\n",
      "Index: 4104\n",
      "Reference source: Ehecha kora tairaity kódigo\n",
      "Reference destination: Ver código fuente del marco\n",
      "Decoded output: Ver código fuente del sitio\n",
      "\n",
      "Reference destination tokens: {'Ver', 'del', 'fuente', 'marco', 'código'}\n",
      "Decoded output tokens: {'Ver', 'del', 'fuente', 'sitio', 'código'}\n",
      "Overlapping words: {'fuente', 'Ver', 'código', 'del'}\n",
      "------------------\n",
      "\n",
      "Index: 4302\n",
      "Reference source: Guarani Ñe’ẽ Rerekuapavẽ Jehupytyrã\n",
      "Reference destination: Objetivo de la Academia de la Lengua Guaraní\n",
      "Decoded output: Academia de la Lengua Guaraní mayoritaria\n",
      "\n",
      "Reference destination tokens: {'Objetivo', 'Lengua', 'Guaraní', 'Academia', 'de', 'la'}\n",
      "Decoded output tokens: {'mayoritaria', 'Lengua', 'Guaraní', 'Academia', 'de', 'la'}\n",
      "Overlapping words: {'Lengua', 'Guaraní', 'Academia', 'de', 'la'}\n",
      "------------------\n",
      "\n",
      "Index: 4134\n",
      "Reference source: ta'angamýi iñongatupýva ndikatúi oñeñongatu\n",
      "Reference destination: El archivo de video no pudo ser guardado\n",
      "Decoded output: El archivo de video no válido a video\n",
      "\n",
      "Reference destination tokens: {'pudo', 'archivo', 'video', 'El', 'ser', 'no', 'de', 'guardado'}\n",
      "Decoded output tokens: {'archivo', 'video', 'El', 'a', 'no', 'válido', 'de'}\n",
      "Overlapping words: {'archivo', 'video', 'El', 'no', 'de'}\n",
      "------------------\n",
      "\n",
      "Index: 4105\n",
      "Reference source: Ehecha taꞌãnga rehegua marandu\n",
      "Reference destination: Ver información de la imagen\n",
      "Decoded output: Ver información de pantalla\n",
      "\n",
      "Reference destination tokens: {'Ver', 'imagen', 'información', 'de', 'la'}\n",
      "Decoded output tokens: {'información', 'de', 'Ver', 'pantalla'}\n",
      "Overlapping words: {'información', 'de', 'Ver'}\n",
      "------------------\n",
      "\n",
      "Index: 5177\n",
      "Reference source: Paraguái Ñe'ẽnguéra Sãmbyhyhárape omoirũ Ypykuéra Ñe'ẽ Ñeñongatu ha Ñemombarete Moakãharapavẽ, María De las Nieves Montiel.\n",
      "Reference destination: La Ministra de la Secretaría de Políticas Lingũísticas fue acompaña por la Directora General de Documentación y Promoción de Lenguas Indígenas, María De las Nieves Montiel.\n",
      "Decoded output: La Ministra de la SPL estuvo acompañada por la Directora General de Documentación y Promoción de Lenguas Indígenas de la Secretaría Nacional de Cultura y a la Dirección Nacional de Documentación y Empleo\n",
      "\n",
      "Reference destination tokens: {'Directora', 'Montiel.', 'y', 'Secretaría', 'María', 'Indígenas,', 'las', 'acompaña', 'General', 'Políticas', 'Documentación', 'Nieves', 'De', 'Promoción', 'Lingũísticas', 'La', 'por', 'fue', 'Ministra', 'de', 'la', 'Lenguas'}\n",
      "Decoded output tokens: {'Directora', 'y', 'Indígenas', 'Secretaría', 'Nacional', 'Empleo', 'estuvo', 'SPL', 'Dirección', 'General', 'Documentación', 'Promoción', 'La', 'por', 'Cultura', 'acompañada', 'Ministra', 'a', 'de', 'la', 'Lenguas'}\n",
      "Overlapping words: {'Directora', 'y', 'General', 'Ministra', 'Secretaría', 'Documentación', 'Promoción', 'de', 'La', 'por', 'la', 'Lenguas'}\n",
      "------------------\n",
      "\n",
      "Index: 5099\n",
      "Reference source: CAAGUAZÚ TAVUSÚPE OJEHAPE'APO GUARANI JEPORUMEMERÃ.\n",
      "Reference destination: PLANIFICAN USO NORMAL DEL GUARANÍ EN CAAGUAZÚ.\n",
      "Decoded output: PLANIFICAN USO NORMAL DEL GUARANÍ EN EL CENTRO NACIONAL DE voy a CONTRABANDISTAS\n",
      "\n",
      "Reference destination tokens: {'NORMAL', 'CAAGUAZÚ.', 'EN', 'GUARANÍ', 'DEL', 'USO', 'PLANIFICAN'}\n",
      "Decoded output tokens: {'NORMAL', 'CENTRO', 'EN', 'DE', 'GUARANÍ', 'a', 'NACIONAL', 'EL', 'DEL', 'voy', 'USO', 'CONTRABANDISTAS', 'PLANIFICAN'}\n",
      "Overlapping words: {'NORMAL', 'EN', 'GUARANÍ', 'DEL', 'USO', 'PLANIFICAN'}\n",
      "------------------\n",
      "\n",
      "Index: 4181\n",
      "Reference source: ko atýpe ndikatúi ojehupi ta'anga\n",
      "Reference destination: No permitir fotos en el grupo\n",
      "Decoded output: No permitir videos en el grupo\n",
      "\n",
      "Reference destination tokens: {'fotos', 'grupo', 'No', 'en', 'el', 'permitir'}\n",
      "Decoded output tokens: {'grupo', 'No', 'videos', 'en', 'el', 'permitir'}\n",
      "Overlapping words: {'grupo', 'No', 'en', 'el', 'permitir'}\n",
      "------------------\n",
      "\n",
      "Index: 5271\n",
      "Reference source: Oñombyaty hikuái omba’apóvo tembipurupyahu hérava Zoom rupive.\n",
      "Reference destination: La reunión de trabajo se realizó mediante la plataforma Zoom de manera telemática.\n",
      "Decoded output: La reunión de trabajo se realizó en funcionarios regional de la SPL\n",
      "\n",
      "Reference destination tokens: {'Zoom', 'plataforma', 'se', 'telemática.', 'realizó', 'la', 'manera', 'de', 'La', 'reunión', 'trabajo', 'mediante'}\n",
      "Decoded output tokens: {'regional', 'se', 'funcionarios', 'en', 'realizó', 'la', 'SPL', 'de', 'La', 'reunión', 'trabajo'}\n",
      "Overlapping words: {'reunión', 'se', 'la', 'de', 'La', 'realizó', 'trabajo'}\n",
      "------------------\n",
      "\n",
      "Index: 5106\n",
      "Reference source: PÑS SÃMBYHYHÁRA OMOIRŨ KUÑA OKARAYGUA ÁRA ÑEMOMORÃ.\n",
      "Reference destination: MINISTRA DE LA SPL ACOMPAÑÓ LA CELEBRACIÓN DEL DÍA DE LAS MUJERES RURALES.\n",
      "Decoded output: MINISTRA DE LA SPL ACOMPAÑÓ LA APERTURA DEL CONGRESO DE APERTURA\n",
      "\n",
      "Reference destination tokens: {'DE', 'LA', 'RURALES.', 'MINISTRA', 'SPL', 'DEL', 'LAS', 'MUJERES', 'ACOMPAÑÓ', 'DÍA', 'CELEBRACIÓN'}\n",
      "Decoded output tokens: {'DE', 'LA', 'CONGRESO', 'MINISTRA', 'SPL', 'DEL', 'APERTURA', 'ACOMPAÑÓ'}\n",
      "Overlapping words: {'DE', 'LA', 'MINISTRA', 'SPL', 'DEL', 'ACOMPAÑÓ'}\n",
      "------------------\n",
      "\n",
      "Index: 3961\n",
      "Reference source: Ekopia taꞌãnga rape\n",
      "Reference destination: Copiar la ruta de la imagen\n",
      "Decoded output: Copiar la ruta nacional\n",
      "\n",
      "Reference destination tokens: {'Copiar', 'imagen', 'de', 'la', 'ruta'}\n",
      "Decoded output tokens: {'nacional', 'Copiar', 'la', 'ruta'}\n",
      "Overlapping words: {'Copiar', 'la', 'ruta'}\n",
      "------------------\n"
     ]
    }
   ],
   "source": [
    "best_indexes = get_ordered_score_indexes(list(sacrebleu_scores), best=True, limit=10)\n",
    "show_translations(best_indexes, reference_source_gn, reference_destination_es, decoded_outputs)"
   ]
  },
  {
   "attachments": {},
   "cell_type": "markdown",
   "metadata": {},
   "source": [
    "Curiosidad: En el índice 3488 confunde la palabra \"igualdad\" con \"nosotros\"... ¿Casualidad?"
   ]
  },
  {
   "cell_type": "code",
   "execution_count": 107,
   "metadata": {},
   "outputs": [
    {
     "name": "stdout",
     "output_type": "stream",
     "text": [
      "\n",
      "Index: 18\n",
      "Reference source: Omoañete reforma jubilatoria ha péva inminente\n",
      "Reference destination: Afirman que la reforma jubilatoria es inminente\n",
      "Decoded output: Analizaron con Marito puente y empresario\n",
      "\n",
      "Reference destination tokens: {'reforma', 'Afirman', 'que', 'jubilatoria', 'es', 'la', 'inminente'}\n",
      "Decoded output tokens: {'con', 'Analizaron', 'Marito', 'puente', 'y', 'empresario'}\n",
      "Overlapping words: set()\n",
      "------------------\n",
      "\n",
      "Index: 35\n",
      "Reference source: Justicia vs. chicana Víctor Bogado.\n",
      "Reference destination: La Justicia vs. las chicanas de Víctor Bogado\n",
      "Decoded output: De esta manera se escucha la causa al senador\n",
      "\n",
      "Reference destination tokens: {'Justicia', 'chicanas', 'vs.', 'las', 'Víctor', 'Bogado', 'de', 'La'}\n",
      "Decoded output tokens: {'al', 'se', 'esta', 'escucha', 'senador', 'De', 'manera', 'la', 'causa'}\n",
      "Overlapping words: set()\n",
      "------------------\n",
      "\n",
      "Index: 42\n",
      "Reference source: Oiméva imputado, acto orekóva Cartes ndive\n",
      "Reference destination: Imputados, en acto con Cartes\n",
      "Decoded output: Hola no llegará por allí de Paraguay\n",
      "\n",
      "Reference destination tokens: {'Imputados,', 'con', 'en', 'Cartes', 'acto'}\n",
      "Decoded output tokens: {'llegará', 'allí', 'Hola', 'Paraguay', 'no', 'de', 'por'}\n",
      "Overlapping words: set()\n",
      "------------------\n"
     ]
    }
   ],
   "source": [
    "worst_indexes = get_ordered_score_indexes(list(bleu_classic_scores), best=False)\n",
    "show_translations(worst_indexes, reference_source_gn, reference_destination_es, decoded_outputs)"
   ]
  },
  {
   "cell_type": "code",
   "execution_count": 108,
   "metadata": {},
   "outputs": [
    {
     "name": "stdout",
     "output_type": "stream",
     "text": [
      "\n",
      "Index: 18\n",
      "Reference source: Omoañete reforma jubilatoria ha péva inminente\n",
      "Reference destination: Afirman que la reforma jubilatoria es inminente\n",
      "Decoded output: Analizaron con Marito puente y empresario\n",
      "\n",
      "Reference destination tokens: {'reforma', 'Afirman', 'que', 'jubilatoria', 'es', 'la', 'inminente'}\n",
      "Decoded output tokens: {'con', 'Analizaron', 'Marito', 'puente', 'y', 'empresario'}\n",
      "Overlapping words: set()\n",
      "------------------\n",
      "\n",
      "Index: 35\n",
      "Reference source: Justicia vs. chicana Víctor Bogado.\n",
      "Reference destination: La Justicia vs. las chicanas de Víctor Bogado\n",
      "Decoded output: De esta manera se escucha la causa al senador\n",
      "\n",
      "Reference destination tokens: {'Justicia', 'chicanas', 'vs.', 'las', 'Víctor', 'Bogado', 'de', 'La'}\n",
      "Decoded output tokens: {'al', 'se', 'esta', 'escucha', 'senador', 'De', 'manera', 'la', 'causa'}\n",
      "Overlapping words: set()\n",
      "------------------\n",
      "\n",
      "Index: 42\n",
      "Reference source: Oiméva imputado, acto orekóva Cartes ndive\n",
      "Reference destination: Imputados, en acto con Cartes\n",
      "Decoded output: Hola no llegará por allí de Paraguay\n",
      "\n",
      "Reference destination tokens: {'Imputados,', 'con', 'en', 'Cartes', 'acto'}\n",
      "Decoded output tokens: {'llegará', 'allí', 'Hola', 'Paraguay', 'no', 'de', 'por'}\n",
      "Overlapping words: set()\n",
      "------------------\n"
     ]
    }
   ],
   "source": [
    "worst_indexes = get_ordered_score_indexes(list(sacrebleu_scores), best=False)\n",
    "show_translations(worst_indexes, reference_source_gn, reference_destination_es, decoded_outputs)"
   ]
  },
  {
   "attachments": {},
   "cell_type": "markdown",
   "metadata": {},
   "source": [
    "### **¿What about the missing line?**"
   ]
  },
  {
   "cell_type": "code",
   "execution_count": 109,
   "metadata": {},
   "outputs": [],
   "source": [
    "def plot_values_by_index(scores):\n",
    "    sns.set_style('darkgrid')\n",
    "    x = list(range(len(scores)))\n",
    "    y = scores\n",
    "    plt.plot(x, y)\n",
    "    plt.show()"
   ]
  },
  {
   "cell_type": "code",
   "execution_count": 110,
   "metadata": {},
   "outputs": [
    {
     "data": {
      "image/png": "[encoded data removed]",
      "text/plain": [
       "<Figure size 640x480 with 1 Axes>"
      ]
     },
     "metadata": {},
     "output_type": "display_data"
    },
    {
     "data": {
      "image/png": "[encoded data removed]",
      "text/plain": [
       "<Figure size 640x480 with 1 Axes>"
      ]
     },
     "metadata": {},
     "output_type": "display_data"
    }
   ],
   "source": [
    "plot_values_by_index(bleu_classic_scores)\n",
    "plot_values_by_index(sacrebleu_scores)"
   ]
  },
  {
   "attachments": {},
   "cell_type": "markdown",
   "metadata": {},
   "source": [
    "Nothing seems to indicate that the missing line is causing problems..."
   ]
  },
  {
   "attachments": {},
   "cell_type": "markdown",
   "metadata": {},
   "source": [
    "Also, there seems to be considerable agreement between the classic BLEU score and SacreBLEU (except from low scores)."
   ]
  }
 ],
 "metadata": {
  "kernelspec": {
   "display_name": "Python 3",
   "language": "python",
   "name": "python3"
  },
  "language_info": {
   "codemirror_mode": {
    "name": "ipython",
    "version": 3
   },
   "file_extension": ".py",
   "mimetype": "text/x-python",
   "name": "python",
   "nbconvert_exporter": "python",
   "pygments_lexer": "ipython3",
   "version": "3.9.6"
  },
  "orig_nbformat": 4
 },
 "nbformat": 4,
 "nbformat_minor": 2
}
