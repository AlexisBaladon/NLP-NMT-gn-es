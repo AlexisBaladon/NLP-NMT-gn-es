{
 "cells": [
  {
   "attachments": {},
   "cell_type": "markdown",
   "metadata": {},
   "source": [
    "# **Analysis of decoding results**"
   ]
  },
  {
   "attachments": {},
   "cell_type": "markdown",
   "metadata": {},
   "source": [
    "## **Libraries**"
   ]
  },
  {
   "cell_type": "code",
   "execution_count": 63,
   "metadata": {},
   "outputs": [],
   "source": [
    "#%pip install pandas matplotlib seaborn nltk sacrebleu"
   ]
  },
  {
   "cell_type": "code",
   "execution_count": 64,
   "metadata": {},
   "outputs": [],
   "source": [
    "import os\n",
    "import warnings\n",
    "\n",
    "import pandas as pd\n",
    "import seaborn as sns\n",
    "import matplotlib.pyplot as plt \n",
    "import nltk\n",
    "import sacrebleu\n",
    "\n",
    "import constants"
   ]
  },
  {
   "attachments": {},
   "cell_type": "markdown",
   "metadata": {},
   "source": [
    "## **Directories**"
   ]
  },
  {
   "cell_type": "code",
   "execution_count": 65,
   "metadata": {},
   "outputs": [],
   "source": [
    "RESULTS_FOLDER = constants.RESULTS_DATA_FOLDER\n",
    "INSPECTED_FOLDER = constants.INSPECTED_DATA_FOLDER\n",
    "\n",
    "DECODED_OUTPUTS_FILENAME = 'split_decode_checkpoint_100-80.log'#'first_decode_checkpoint_100-50.log'#\n",
    "DECODED_OUTPUTS_FILEPATH = os.path.join(INSPECTED_FOLDER, DECODED_OUTPUTS_FILENAME)\n",
    "REFERENCE_SOURCE_FILENAME = 'valid_gn.txt.gn' #'first_val_gn.txt'#\n",
    "REFERENCE_SOURCE_FILEPATH = os.path.join(INSPECTED_FOLDER, REFERENCE_SOURCE_FILENAME)\n",
    "REFERENCE_DESTINATION_FILENAME = 'valid_es.txt.es' #'first_val_es.txt'#\n",
    "REFERENCE_DESTINATION_FILEPATH = os.path.join(INSPECTED_FOLDER, REFERENCE_DESTINATION_FILENAME)\n",
    "FIRST_DECODING_RESULTS_FOLDER = os.path.join(RESULTS_FOLDER, 'first_decode_checkpoint_100-50')\n",
    "CURRENT_RESULTS_FOLDER = os.path.join(FIRST_DECODING_RESULTS_FOLDER, DECODED_OUTPUTS_FILENAME.split('.')[0])\n",
    "\n",
    "if not os.path.exists(FIRST_DECODING_RESULTS_FOLDER):\n",
    "    os.makedirs(FIRST_DECODING_RESULTS_FOLDER)\n",
    "\n",
    "if not os.path.exists(CURRENT_RESULTS_FOLDER):\n",
    "    os.makedirs(CURRENT_RESULTS_FOLDER)"
   ]
  },
  {
   "cell_type": "code",
   "execution_count": 66,
   "metadata": {},
   "outputs": [],
   "source": [
    "with open(REFERENCE_SOURCE_FILEPATH, 'r', encoding='utf-8') as f:\n",
    "    reference_source_gn = f.readlines()\n",
    "\n",
    "with open(REFERENCE_DESTINATION_FILEPATH, 'r', encoding='utf-8') as f:\n",
    "    reference_destination_es = f.readlines()\n",
    "\n",
    "with open(DECODED_OUTPUTS_FILEPATH, 'r', encoding='utf-8') as f:\n",
    "    decoded_outputs = f.readlines()"
   ]
  },
  {
   "attachments": {},
   "cell_type": "markdown",
   "metadata": {},
   "source": [
    "## **Checking files**"
   ]
  },
  {
   "cell_type": "code",
   "execution_count": 67,
   "metadata": {},
   "outputs": [
    {
     "name": "stdout",
     "output_type": "stream",
     "text": [
      "Number of lines in reference source: 4939\n",
      "Number of lines in reference destination: 4939\n",
      "Number of lines in decoded outputs: 4938\n"
     ]
    }
   ],
   "source": [
    "print(f'Number of lines in reference source: {len(reference_source_gn)}')\n",
    "print(f'Number of lines in reference destination: {len(reference_destination_es)}')\n",
    "print(f'Number of lines in decoded outputs: {len(decoded_outputs)}')"
   ]
  },
  {
   "attachments": {},
   "cell_type": "markdown",
   "metadata": {},
   "source": [
    "There is a difference of 1 between the number of lines in the decoded outputs and the number of lines in the original inputs."
   ]
  },
  {
   "cell_type": "code",
   "execution_count": 68,
   "metadata": {},
   "outputs": [
    {
     "name": "stdout",
     "output_type": "stream",
     "text": [
      "Empty line at index 1188 from decoded outputs\n"
     ]
    }
   ],
   "source": [
    "for idx, (elem_ref, elem_dest, decoded) in enumerate(zip(reference_source_gn, reference_destination_es, decoded_outputs)):\n",
    "    if elem_ref.strip() == '':\n",
    "        print(f'Empty line at index {idx} from reference source')\n",
    "\n",
    "    if elem_dest.strip() == '':\n",
    "        print(f'Empty line at index {idx} from reference destination')\n",
    "\n",
    "    if decoded.strip() == '':\n",
    "        print(f'Empty line at index {idx} from decoded outputs')"
   ]
  },
  {
   "attachments": {},
   "cell_type": "markdown",
   "metadata": {},
   "source": [
    "This extra line is not a problem, as the decoded file can output empty lines. However, it remains unclear why the length of the files are different."
   ]
  },
  {
   "attachments": {},
   "cell_type": "markdown",
   "metadata": {},
   "source": [
    "## **Score analysis**"
   ]
  },
  {
   "attachments": {},
   "cell_type": "markdown",
   "metadata": {},
   "source": [
    "### **Examples of BLEU score**"
   ]
  },
  {
   "cell_type": "code",
   "execution_count": 69,
   "metadata": {},
   "outputs": [],
   "source": [
    "def silence_warnings(func):\n",
    "    def wrapper(*args, **kwargs):\n",
    "        with warnings.catch_warnings():\n",
    "            warnings.simplefilter(\"ignore\")\n",
    "            return func(*args, **kwargs)\n",
    "    return wrapper"
   ]
  },
  {
   "cell_type": "code",
   "execution_count": 70,
   "metadata": {},
   "outputs": [],
   "source": [
    "correct_reference = ['Today', 'is', 'a', 'new', 'day']\n",
    "short_reference = ['Today']\n",
    "wrong_reference = ['Yesterday', 'was', 'a', 'good', 'day']\n",
    "\n",
    "translated = ['Today', 'is', 'a', 'new', 'day']"
   ]
  },
  {
   "attachments": {},
   "cell_type": "markdown",
   "metadata": {},
   "source": [
    "### **Classic BLEU**"
   ]
  },
  {
   "cell_type": "code",
   "execution_count": 71,
   "metadata": {},
   "outputs": [],
   "source": [
    "@silence_warnings\n",
    "def calculate_bleu(reference, translated, bleu_score_type='classic'):\n",
    "    classic_bleu_function = lambda reference, translated: nltk.translate.bleu_score.sentence_bleu([reference], translated)\n",
    "    one_gram_bleu_function = lambda reference, translated: nltk.translate.bleu_score.sentence_bleu([reference], translated, weights=(4, 0, 0, 0))\n",
    "    sacrebleu_function = lambda reference, translated: sacrebleu.corpus_bleu([' '.join(translated)], [[' '.join(reference)]]).score\n",
    "    \n",
    "    score_functions = {\n",
    "        'classic': classic_bleu_function,\n",
    "        'one-gram': one_gram_bleu_function,\n",
    "        'sacrebleu': sacrebleu_function\n",
    "    }\n",
    "\n",
    "    bleu_score = score_functions[bleu_score_type](reference, translated)\n",
    "    return bleu_score"
   ]
  },
  {
   "cell_type": "code",
   "execution_count": 72,
   "metadata": {},
   "outputs": [],
   "source": [
    "def create_bleu_scores_df(references, translated, bleu_score_types):\n",
    "    bleu_scores_df = {'reference': [], 'translation': [], 'metric': [], 'score': []}\n",
    "\n",
    "    for reference, translation in zip(references, translated):\n",
    "        for bleu_score_type in bleu_score_types:\n",
    "            bleu_score = calculate_bleu(reference, translation, bleu_score_type=bleu_score_type)\n",
    "            bleu_scores_df['reference'].append(' '.join(reference))\n",
    "            bleu_scores_df['translation'].append(' '.join(translation))\n",
    "            bleu_scores_df['metric'].append(bleu_score_type)\n",
    "            bleu_scores_df['score'].append(bleu_score)\n",
    "\n",
    "    return pd.DataFrame(bleu_scores_df)"
   ]
  },
  {
   "cell_type": "code",
   "execution_count": 73,
   "metadata": {},
   "outputs": [
    {
     "data": {
      "text/html": [
       "<style type=\"text/css\">\n",
       "</style>\n",
       "<table id=\"T_c120c\">\n",
       "  <thead>\n",
       "    <tr>\n",
       "      <th class=\"blank level0\" >&nbsp;</th>\n",
       "      <th id=\"T_c120c_level0_col0\" class=\"col_heading level0 col0\" >reference</th>\n",
       "      <th id=\"T_c120c_level0_col1\" class=\"col_heading level0 col1\" >translation</th>\n",
       "      <th id=\"T_c120c_level0_col2\" class=\"col_heading level0 col2\" >metric</th>\n",
       "      <th id=\"T_c120c_level0_col3\" class=\"col_heading level0 col3\" >score</th>\n",
       "    </tr>\n",
       "  </thead>\n",
       "  <tbody>\n",
       "    <tr>\n",
       "      <th id=\"T_c120c_level0_row0\" class=\"row_heading level0 row0\" >0</th>\n",
       "      <td id=\"T_c120c_row0_col0\" class=\"data row0 col0\" >Today is a new day</td>\n",
       "      <td id=\"T_c120c_row0_col1\" class=\"data row0 col1\" >Today is a new day</td>\n",
       "      <td id=\"T_c120c_row0_col2\" class=\"data row0 col2\" >classic</td>\n",
       "      <td id=\"T_c120c_row0_col3\" class=\"data row0 col3\" >1</td>\n",
       "    </tr>\n",
       "    <tr>\n",
       "      <th id=\"T_c120c_level0_row1\" class=\"row_heading level0 row1\" >1</th>\n",
       "      <td id=\"T_c120c_row1_col0\" class=\"data row1 col0\" >Today is a new day</td>\n",
       "      <td id=\"T_c120c_row1_col1\" class=\"data row1 col1\" >Today is a new day</td>\n",
       "      <td id=\"T_c120c_row1_col2\" class=\"data row1 col2\" >one-gram</td>\n",
       "      <td id=\"T_c120c_row1_col3\" class=\"data row1 col3\" >1</td>\n",
       "    </tr>\n",
       "    <tr>\n",
       "      <th id=\"T_c120c_level0_row2\" class=\"row_heading level0 row2\" >2</th>\n",
       "      <td id=\"T_c120c_row2_col0\" class=\"data row2 col0\" >Today is a new day</td>\n",
       "      <td id=\"T_c120c_row2_col1\" class=\"data row2 col1\" >Today is a new day</td>\n",
       "      <td id=\"T_c120c_row2_col2\" class=\"data row2 col2\" >sacrebleu</td>\n",
       "      <td id=\"T_c120c_row2_col3\" class=\"data row2 col3\" >100</td>\n",
       "    </tr>\n",
       "    <tr>\n",
       "      <th id=\"T_c120c_level0_row3\" class=\"row_heading level0 row3\" >3</th>\n",
       "      <td id=\"T_c120c_row3_col0\" class=\"data row3 col0\" >Today</td>\n",
       "      <td id=\"T_c120c_row3_col1\" class=\"data row3 col1\" >Today is a new day</td>\n",
       "      <td id=\"T_c120c_row3_col2\" class=\"data row3 col2\" >classic</td>\n",
       "      <td id=\"T_c120c_row3_col3\" class=\"data row3 col3\" >1.2183e-231</td>\n",
       "    </tr>\n",
       "    <tr>\n",
       "      <th id=\"T_c120c_level0_row4\" class=\"row_heading level0 row4\" >4</th>\n",
       "      <td id=\"T_c120c_row4_col0\" class=\"data row4 col0\" >Today</td>\n",
       "      <td id=\"T_c120c_row4_col1\" class=\"data row4 col1\" >Today is a new day</td>\n",
       "      <td id=\"T_c120c_row4_col2\" class=\"data row4 col2\" >one-gram</td>\n",
       "      <td id=\"T_c120c_row4_col3\" class=\"data row4 col3\" >0.0016</td>\n",
       "    </tr>\n",
       "    <tr>\n",
       "      <th id=\"T_c120c_level0_row5\" class=\"row_heading level0 row5\" >5</th>\n",
       "      <td id=\"T_c120c_row5_col0\" class=\"data row5 col0\" >Today</td>\n",
       "      <td id=\"T_c120c_row5_col1\" class=\"data row5 col1\" >Today is a new day</td>\n",
       "      <td id=\"T_c120c_row5_col2\" class=\"data row5 col2\" >sacrebleu</td>\n",
       "      <td id=\"T_c120c_row5_col3\" class=\"data row5 col3\" >10.682</td>\n",
       "    </tr>\n",
       "    <tr>\n",
       "      <th id=\"T_c120c_level0_row6\" class=\"row_heading level0 row6\" >6</th>\n",
       "      <td id=\"T_c120c_row6_col0\" class=\"data row6 col0\" >Yesterday was a good day</td>\n",
       "      <td id=\"T_c120c_row6_col1\" class=\"data row6 col1\" >Today is a new day</td>\n",
       "      <td id=\"T_c120c_row6_col2\" class=\"data row6 col2\" >classic</td>\n",
       "      <td id=\"T_c120c_row6_col3\" class=\"data row6 col3\" >1.4488e-231</td>\n",
       "    </tr>\n",
       "    <tr>\n",
       "      <th id=\"T_c120c_level0_row7\" class=\"row_heading level0 row7\" >7</th>\n",
       "      <td id=\"T_c120c_row7_col0\" class=\"data row7 col0\" >Yesterday was a good day</td>\n",
       "      <td id=\"T_c120c_row7_col1\" class=\"data row7 col1\" >Today is a new day</td>\n",
       "      <td id=\"T_c120c_row7_col2\" class=\"data row7 col2\" >one-gram</td>\n",
       "      <td id=\"T_c120c_row7_col3\" class=\"data row7 col3\" >0.0256</td>\n",
       "    </tr>\n",
       "    <tr>\n",
       "      <th id=\"T_c120c_level0_row8\" class=\"row_heading level0 row8\" >8</th>\n",
       "      <td id=\"T_c120c_row8_col0\" class=\"data row8 col0\" >Yesterday was a good day</td>\n",
       "      <td id=\"T_c120c_row8_col1\" class=\"data row8 col1\" >Today is a new day</td>\n",
       "      <td id=\"T_c120c_row8_col2\" class=\"data row8 col2\" >sacrebleu</td>\n",
       "      <td id=\"T_c120c_row8_col3\" class=\"data row8 col3\" >12.703</td>\n",
       "    </tr>\n",
       "  </tbody>\n",
       "</table>\n"
      ],
      "text/plain": [
       "<pandas.io.formats.style.Styler at 0x2b3b3b679a0>"
      ]
     },
     "execution_count": 73,
     "metadata": {},
     "output_type": "execute_result"
    }
   ],
   "source": [
    "example_dfs = []\n",
    "\n",
    "example_references = [correct_reference, short_reference, wrong_reference]\n",
    "bleu_scores_example_df = create_bleu_scores_df(example_references, [translated]*len(example_references), bleu_score_types=['classic', 'one-gram', 'sacrebleu'])\n",
    "example_dfs.append(bleu_scores_example_df)\n",
    "\n",
    "example_dfs = pd.concat(example_dfs)\n",
    "example_dfs.style.format({'score': '{:.5g}'})"
   ]
  },
  {
   "attachments": {},
   "cell_type": "markdown",
   "metadata": {},
   "source": [
    "### **BLEU score distribution**"
   ]
  },
  {
   "cell_type": "code",
   "execution_count": 74,
   "metadata": {},
   "outputs": [],
   "source": [
    "tokenized_reference_destination_es = [reference.split() for reference in reference_destination_es]\n",
    "tokenized_decoded_outputs = [decoded.split() for decoded in decoded_outputs]\n",
    "bleu_scores_df = create_bleu_scores_df(tokenized_reference_destination_es, tokenized_decoded_outputs, bleu_score_types=['classic', 'one-gram', 'sacrebleu'])"
   ]
  },
  {
   "cell_type": "code",
   "execution_count": 75,
   "metadata": {},
   "outputs": [],
   "source": [
    "save_path = os.path.join(CURRENT_RESULTS_FOLDER, 'bleu_scores.csv')\n",
    "bleu_scores_df.to_csv(save_path, index=False)"
   ]
  },
  {
   "cell_type": "code",
   "execution_count": 76,
   "metadata": {},
   "outputs": [
    {
     "name": "stdout",
     "output_type": "stream",
     "text": [
      "Metric: classic\n",
      "               score\n",
      "count   4.938000e+03\n",
      "mean    2.889436e-03\n",
      "std     3.332824e-02\n",
      "min     0.000000e+00\n",
      "25%     0.000000e+00\n",
      "50%    8.724164e-232\n",
      "75%    1.218332e-231\n",
      "max     1.000000e+00\n",
      "\n",
      "Metric: one-gram\n",
      "             score\n",
      "count  4938.000000\n",
      "mean      0.004363\n",
      "std       0.035034\n",
      "min       0.000000\n",
      "25%       0.000000\n",
      "50%       0.000336\n",
      "75%       0.001717\n",
      "max       1.000000\n",
      "\n",
      "Metric: sacrebleu\n",
      "             score\n",
      "count  4938.000000\n",
      "mean      2.788026\n",
      "std       4.508518\n",
      "min       0.000000\n",
      "25%       1.128678\n",
      "50%       1.996819\n",
      "75%       3.178347\n",
      "max     100.000000\n",
      "\n"
     ]
    }
   ],
   "source": [
    "for metric in bleu_scores_df['metric'].unique():\n",
    "    print(f'Metric: {metric}')\n",
    "    print(bleu_scores_df[bleu_scores_df['metric'] == metric].describe())\n",
    "    print()\n",
    "\n",
    "save_path = os.path.join(CURRENT_RESULTS_FOLDER, 'bleu_scores_summary.csv')\n",
    "bleu_scores_df.groupby(['metric']).describe().to_csv(save_path)"
   ]
  },
  {
   "attachments": {},
   "cell_type": "markdown",
   "metadata": {},
   "source": [
    "This does not align with the BLEU score returned by marian."
   ]
  },
  {
   "attachments": {},
   "cell_type": "markdown",
   "metadata": {},
   "source": [
    "TODO: Sentences shorter than 4 words are not well-suited for BLEU scoring."
   ]
  },
  {
   "cell_type": "code",
   "execution_count": 77,
   "metadata": {},
   "outputs": [],
   "source": [
    "bleu_classic_scores = bleu_scores_df[bleu_scores_df['metric'] == 'classic']['score']\n",
    "sacrebleu_scores = bleu_scores_df[bleu_scores_df['metric'] == 'sacrebleu']['score']"
   ]
  },
  {
   "cell_type": "code",
   "execution_count": 78,
   "metadata": {},
   "outputs": [],
   "source": [
    "def plot_scores(scores, titles, xlabel, save_path=None):\n",
    "    fig, ax = plt.subplots(nrows=1, ncols=len(scores), figsize=(15, 5))\n",
    "    sns.set_style('darkgrid')\n",
    "    for idx, (score, title) in enumerate(zip(scores, titles)):\n",
    "        current_ax = ax[idx] if len(scores) > 1 else ax\n",
    "        sns.kdeplot(score, fill=True, ax=current_ax)\n",
    "        current_ax.set(xlabel=xlabel, ylabel='Density', title=title)\n",
    "\n",
    "    if save_path is not None:\n",
    "        plt.savefig(save_path)\n",
    "        sns.set_style('darkgrid')"
   ]
  },
  {
   "cell_type": "code",
   "execution_count": 79,
   "metadata": {},
   "outputs": [
    {
     "name": "stdout",
     "output_type": "stream",
     "text": [
      "Number of positive BLEU scores: 4938\n",
      "Number of non-negligible BLEU scores: 73\n",
      "Number of acceptable BLEU scores: 13\n"
     ]
    },
    {
     "data": {
      "image/png": "[encoded data removed]",
      "text/plain": [
       "<Figure size 1500x500 with 3 Axes>"
      ]
     },
     "metadata": {},
     "output_type": "display_data"
    }
   ],
   "source": [
    "acceptance_threshold = 0.3\n",
    "epsilon = 0.0001\n",
    "\n",
    "non_negligible_bleu_scores = [score for score in bleu_classic_scores if score > epsilon]\n",
    "acceptable = [score for score in bleu_classic_scores if score > acceptance_threshold]\n",
    "\n",
    "print(f'Number of positive BLEU scores: {len(bleu_classic_scores)}')\n",
    "print(f'Number of non-negligible BLEU scores: {len(non_negligible_bleu_scores)}')\n",
    "print(f'Number of acceptable BLEU scores: {len(acceptable)}')\n",
    "\n",
    "save_path = os.path.join(CURRENT_RESULTS_FOLDER, 'bleu_scores.png')\n",
    "scores = [bleu_classic_scores, non_negligible_bleu_scores, acceptable]\n",
    "titles = ['All BLEU scores', f'Non-negligible BLEU scores (BLEU > {epsilon})', f'Acceptable BLEU scores (BLEU > {acceptance_threshold})']\n",
    "plot_scores(scores, titles, 'BLEU score', save_path=save_path)"
   ]
  },
  {
   "attachments": {},
   "cell_type": "markdown",
   "metadata": {},
   "source": [
    "### **Best BLEU scores**"
   ]
  },
  {
   "cell_type": "code",
   "execution_count": 80,
   "metadata": {},
   "outputs": [],
   "source": [
    "def get_ordered_score_indexes(scores, best=True, limit=3):\n",
    "    return sorted(range(len(scores)), key=lambda i: scores[i], reverse=best)[:limit]\n",
    "\n",
    "def show_translations(indexes, reference_source, reference_destination, decoded_outputs):\n",
    "    for idx in indexes:\n",
    "        print()\n",
    "        print(f'Index: {idx}')\n",
    "        print(f'Reference source: {reference_source[idx][:-1]}')\n",
    "        print(f'Reference destination: {reference_destination[idx][:-1]}')\n",
    "        print(f'Decoded output: {decoded_outputs[idx]}')\n",
    "        reference_destination_tokens = set(reference_destination[idx].strip().split(' '))\n",
    "        decoded_output_tokens = set(decoded_outputs[idx].strip().split(' '))\n",
    "        print(f'Reference destination tokens: {reference_destination_tokens}')\n",
    "        print(f'Decoded output tokens: {decoded_output_tokens}')\n",
    "        overlapping_words = reference_destination_tokens.intersection(decoded_output_tokens)\n",
    "        print(f'Overlapping words: {overlapping_words}')\n",
    "        print('------------------')"
   ]
  },
  {
   "cell_type": "code",
   "execution_count": 81,
   "metadata": {},
   "outputs": [
    {
     "name": "stdout",
     "output_type": "stream",
     "text": [
      "\n",
      "Index: 1610\n",
      "Reference source: pe aranduka morotĩ\n",
      "Reference destination: el libro es blanco.\n",
      "Decoded output: el libro es blanco.\n",
      "\n",
      "Reference destination tokens: {'libro', 'es', 'blanco.', 'el'}\n",
      "Decoded output tokens: {'libro', 'es', 'blanco.', 'el'}\n",
      "Overlapping words: {'libro', 'es', 'blanco.', 'el'}\n",
      "------------------\n",
      "\n",
      "Index: 2717\n",
      "Reference source: OÑEMBOSAKO'I AMANDAJE GUASU ÑE'Ẽ RAPEREKA PARAGUÁIPE REHEGUA.\n",
      "Reference destination: ORGANIZAN II SEMINARIO-TALLER SOBRE INVESTIGACIÓN LINGŨÍSTICA EN PARAGUAY.\n",
      "Decoded output: SEMINARIO-TALLER SOBRE INVESTIGACIÓN LINGŨÍSTICA EN PARAGUAY.\n",
      "\n",
      "Reference destination tokens: {'LINGŨÍSTICA', 'INVESTIGACIÓN', 'ORGANIZAN', 'EN', 'II', 'PARAGUAY.', 'SOBRE', 'SEMINARIO-TALLER'}\n",
      "Decoded output tokens: {'LINGŨÍSTICA', 'INVESTIGACIÓN', 'EN', 'PARAGUAY.', 'SOBRE', 'SEMINARIO-TALLER'}\n",
      "Overlapping words: {'LINGŨÍSTICA', 'INVESTIGACIÓN', 'EN', 'PARAGUAY.', 'SOBRE', 'SEMINARIO-TALLER'}\n",
      "------------------\n",
      "\n",
      "Index: 4024\n",
      "Reference source: TEMBIAPORÃ'ATY “ROHAYHU CHE ÑE'Ẽ” 2017 REHEGUA\n",
      "Reference destination: AGENDA DE ACTIVIDADES DE “ROHAYHU CHE ÑE'Ẽ” 2017\n",
      "Decoded output: AGENDA DE ACTIVIDADES DE “ROHAYHU CHE ÑE'Ẽ”.\n",
      "\n",
      "Reference destination tokens: {'AGENDA', 'ACTIVIDADES', '“ROHAYHU', 'DE', 'CHE', '2017', \"ÑE'Ẽ”\"}\n",
      "Decoded output tokens: {'AGENDA', 'ACTIVIDADES', '“ROHAYHU', 'DE', 'CHE', \"ÑE'Ẽ”.\"}\n",
      "Overlapping words: {'AGENDA', 'ACTIVIDADES', '“ROHAYHU', 'DE', 'CHE'}\n",
      "------------------\n",
      "\n",
      "Index: 4355\n",
      "Reference source: OÑEMBOSAKO'I PETEĨ AMANDAJE ÑE'Ẽ RAPEREKA PARAGUÁIPE REHEGUA.\n",
      "Reference destination: ORGANIZAN SEMINARIO-TALLER SOBRE INVESTIGACIÓN LINGŨÍSTICA EN PARAGUAY.\n",
      "Decoded output: ORGANIZAN CHARLA SOBRE INVESTIGACIÓN LINGŨÍSTICA EN PARAGUAY.\n",
      "\n",
      "Reference destination tokens: {'LINGŨÍSTICA', 'INVESTIGACIÓN', 'ORGANIZAN', 'EN', 'PARAGUAY.', 'SOBRE', 'SEMINARIO-TALLER'}\n",
      "Decoded output tokens: {'LINGŨÍSTICA', 'INVESTIGACIÓN', 'ORGANIZAN', 'EN', 'PARAGUAY.', 'CHARLA', 'SOBRE'}\n",
      "Overlapping words: {'LINGŨÍSTICA', 'INVESTIGACIÓN', 'ORGANIZAN', 'EN', 'SOBRE', 'PARAGUAY.'}\n",
      "------------------\n",
      "\n",
      "Index: 2666\n",
      "Reference source: (*) ohupi peteĩ avatar pyahu\n",
      "Reference destination: (*) ha cargado un nuevo avatar\n",
      "Decoded output: (*) ha cargado un nuevo avatar para el grupo\n",
      "\n",
      "Reference destination tokens: {'ha', 'un', '(*)', 'nuevo', 'avatar', 'cargado'}\n",
      "Decoded output tokens: {'para', 'ha', 'un', 'grupo', '(*)', 'nuevo', 'avatar', 'el', 'cargado'}\n",
      "Overlapping words: {'ha', 'un', '(*)', 'nuevo', 'avatar', 'cargado'}\n",
      "------------------\n",
      "\n",
      "Index: 4289\n",
      "Reference source: OJEKUAAUKÁTA GUARANI ÑE'Ẽ JEHAIRÃ MBOJOJAHAKUÉRA.\n",
      "Reference destination: PRESENTARÁN LAS REGLAS ORTOGRÁFICAS DEL GUARANÍ\n",
      "Decoded output: LAS REGLAS ORTOGRÁFICAS DEL GUARANI.\n",
      "\n",
      "Reference destination tokens: {'GUARANÍ', 'PRESENTARÁN', 'DEL', 'LAS', 'ORTOGRÁFICAS', 'REGLAS'}\n",
      "Decoded output tokens: {'GUARANI.', 'DEL', 'LAS', 'ORTOGRÁFICAS', 'REGLAS'}\n",
      "Overlapping words: {'ORTOGRÁFICAS', 'REGLAS', 'DEL', 'LAS'}\n",
      "------------------\n",
      "\n",
      "Index: 2113\n",
      "Reference source: SÃMBYHYHÁRA ALCARAZ OHESA'ỸIJO DERÉCHO ÑE'ẼNGUÉRA REHEGUA.\n",
      "Reference destination: MINISTRA DE LA SPL DISERTÓ SOBRE DERECHOS LINGŨÍSTICOS.\n",
      "Decoded output: MINISTRA DE LA SPL DISERTÓ SOBRE.\n",
      "\n",
      "Reference destination tokens: {'LINGŨÍSTICOS.', 'DE', 'DERECHOS', 'LA', 'DISERTÓ', 'MINISTRA', 'SPL', 'SOBRE'}\n",
      "Decoded output tokens: {'DE', 'LA', 'DISERTÓ', 'MINISTRA', 'SPL', 'SOBRE.'}\n",
      "Overlapping words: {'DE', 'LA', 'DISERTÓ', 'MINISTRA', 'SPL'}\n",
      "------------------\n",
      "\n",
      "Index: 3488\n",
      "Reference source: Jekupyty niko oĩ tembijojápe,\n",
      "Reference destination: La solidaridad está en la igualdad,\n",
      "Decoded output: La solidaridad está en todos nosotros,\n",
      "\n",
      "Reference destination tokens: {'está', 'igualdad,', 'en', 'solidaridad', 'La', 'la'}\n",
      "Decoded output tokens: {'está', 'todos', 'en', 'solidaridad', 'La', 'nosotros,'}\n",
      "Overlapping words: {'La', 'está', 'en', 'solidaridad'}\n",
      "------------------\n",
      "\n",
      "Index: 3904\n",
      "Reference source: Jekupyty niko oĩ mba’e vai apo jehejareípe,\n",
      "Reference destination: La solidaridad está en el perdón,\n",
      "Decoded output: La solidaridad está en la región.\n",
      "\n",
      "Reference destination tokens: {'está', 'perdón,', 'en', 'solidaridad', 'el', 'La'}\n",
      "Decoded output tokens: {'está', 'región.', 'en', 'solidaridad', 'La', 'la'}\n",
      "Overlapping words: {'La', 'está', 'en', 'solidaridad'}\n",
      "------------------\n",
      "\n",
      "Index: 1431\n",
      "Reference source: PÑS SÃMBYHYHÁRA OMOIRŨ CONGRESO DE EDUCACIÓN ARTÍSTICA ÑEMOÑEPYRŨ.\n",
      "Reference destination: MINISTRA DE LA SPL ACOMPAÑÓ LA APERTURA DEL CONGRESO DE EDUCACIÓN ARTÍSTICA.\n",
      "Decoded output: MINISTRA DE LA SPL ACOMPAÑÓ LA SPL DISERTÓ SOBRE.\n",
      "\n",
      "Reference destination tokens: {'DE', 'LA', 'ARTÍSTICA.', 'EDUCACIÓN', 'CONGRESO', 'MINISTRA', 'SPL', 'DEL', 'APERTURA', 'ACOMPAÑÓ'}\n",
      "Decoded output tokens: {'DE', 'LA', 'DISERTÓ', 'MINISTRA', 'SPL', 'SOBRE.', 'ACOMPAÑÓ'}\n",
      "Overlapping words: {'DE', 'LA', 'MINISTRA', 'SPL', 'ACOMPAÑÓ'}\n",
      "------------------\n"
     ]
    }
   ],
   "source": [
    "best_indexes = get_ordered_score_indexes(list(bleu_classic_scores), best=True, limit=10)\n",
    "show_translations(best_indexes, reference_source_gn, reference_destination_es, decoded_outputs)"
   ]
  },
  {
   "cell_type": "code",
   "execution_count": 82,
   "metadata": {},
   "outputs": [
    {
     "name": "stdout",
     "output_type": "stream",
     "text": [
      "\n",
      "Index: 1610\n",
      "Reference source: pe aranduka morotĩ\n",
      "Reference destination: el libro es blanco.\n",
      "Decoded output: el libro es blanco.\n",
      "\n",
      "Reference destination tokens: {'libro', 'es', 'blanco.', 'el'}\n",
      "Decoded output tokens: {'libro', 'es', 'blanco.', 'el'}\n",
      "Overlapping words: {'libro', 'es', 'blanco.', 'el'}\n",
      "------------------\n",
      "\n",
      "Index: 4024\n",
      "Reference source: TEMBIAPORÃ'ATY “ROHAYHU CHE ÑE'Ẽ” 2017 REHEGUA\n",
      "Reference destination: AGENDA DE ACTIVIDADES DE “ROHAYHU CHE ÑE'Ẽ” 2017\n",
      "Decoded output: AGENDA DE ACTIVIDADES DE “ROHAYHU CHE ÑE'Ẽ”.\n",
      "\n",
      "Reference destination tokens: {'AGENDA', 'ACTIVIDADES', '“ROHAYHU', 'DE', 'CHE', '2017', \"ÑE'Ẽ”\"}\n",
      "Decoded output tokens: {'AGENDA', 'ACTIVIDADES', '“ROHAYHU', 'DE', 'CHE', \"ÑE'Ẽ”.\"}\n",
      "Overlapping words: {'AGENDA', 'ACTIVIDADES', '“ROHAYHU', 'DE', 'CHE'}\n",
      "------------------\n",
      "\n",
      "Index: 2717\n",
      "Reference source: OÑEMBOSAKO'I AMANDAJE GUASU ÑE'Ẽ RAPEREKA PARAGUÁIPE REHEGUA.\n",
      "Reference destination: ORGANIZAN II SEMINARIO-TALLER SOBRE INVESTIGACIÓN LINGŨÍSTICA EN PARAGUAY.\n",
      "Decoded output: SEMINARIO-TALLER SOBRE INVESTIGACIÓN LINGŨÍSTICA EN PARAGUAY.\n",
      "\n",
      "Reference destination tokens: {'LINGŨÍSTICA', 'INVESTIGACIÓN', 'ORGANIZAN', 'EN', 'II', 'PARAGUAY.', 'SOBRE', 'SEMINARIO-TALLER'}\n",
      "Decoded output tokens: {'LINGŨÍSTICA', 'INVESTIGACIÓN', 'EN', 'PARAGUAY.', 'SOBRE', 'SEMINARIO-TALLER'}\n",
      "Overlapping words: {'LINGŨÍSTICA', 'INVESTIGACIÓN', 'EN', 'PARAGUAY.', 'SOBRE', 'SEMINARIO-TALLER'}\n",
      "------------------\n",
      "\n",
      "Index: 4355\n",
      "Reference source: OÑEMBOSAKO'I PETEĨ AMANDAJE ÑE'Ẽ RAPEREKA PARAGUÁIPE REHEGUA.\n",
      "Reference destination: ORGANIZAN SEMINARIO-TALLER SOBRE INVESTIGACIÓN LINGŨÍSTICA EN PARAGUAY.\n",
      "Decoded output: ORGANIZAN CHARLA SOBRE INVESTIGACIÓN LINGŨÍSTICA EN PARAGUAY.\n",
      "\n",
      "Reference destination tokens: {'LINGŨÍSTICA', 'INVESTIGACIÓN', 'ORGANIZAN', 'EN', 'PARAGUAY.', 'SOBRE', 'SEMINARIO-TALLER'}\n",
      "Decoded output tokens: {'LINGŨÍSTICA', 'INVESTIGACIÓN', 'ORGANIZAN', 'EN', 'PARAGUAY.', 'CHARLA', 'SOBRE'}\n",
      "Overlapping words: {'LINGŨÍSTICA', 'INVESTIGACIÓN', 'ORGANIZAN', 'EN', 'SOBRE', 'PARAGUAY.'}\n",
      "------------------\n",
      "\n",
      "Index: 2666\n",
      "Reference source: (*) ohupi peteĩ avatar pyahu\n",
      "Reference destination: (*) ha cargado un nuevo avatar\n",
      "Decoded output: (*) ha cargado un nuevo avatar para el grupo\n",
      "\n",
      "Reference destination tokens: {'ha', 'un', '(*)', 'nuevo', 'avatar', 'cargado'}\n",
      "Decoded output tokens: {'para', 'ha', 'un', 'grupo', '(*)', 'nuevo', 'avatar', 'el', 'cargado'}\n",
      "Overlapping words: {'ha', 'un', '(*)', 'nuevo', 'avatar', 'cargado'}\n",
      "------------------\n",
      "\n",
      "Index: 2113\n",
      "Reference source: SÃMBYHYHÁRA ALCARAZ OHESA'ỸIJO DERÉCHO ÑE'ẼNGUÉRA REHEGUA.\n",
      "Reference destination: MINISTRA DE LA SPL DISERTÓ SOBRE DERECHOS LINGŨÍSTICOS.\n",
      "Decoded output: MINISTRA DE LA SPL DISERTÓ SOBRE.\n",
      "\n",
      "Reference destination tokens: {'LINGŨÍSTICOS.', 'DE', 'DERECHOS', 'LA', 'DISERTÓ', 'MINISTRA', 'SPL', 'SOBRE'}\n",
      "Decoded output tokens: {'DE', 'LA', 'DISERTÓ', 'MINISTRA', 'SPL', 'SOBRE.'}\n",
      "Overlapping words: {'DE', 'LA', 'DISERTÓ', 'MINISTRA', 'SPL'}\n",
      "------------------\n",
      "\n",
      "Index: 3064\n",
      "Reference source: Eñeha'ã jey\n",
      "Reference destination: intenta otra vez.\n",
      "Decoded output: inténtalo otra vez.\n",
      "\n",
      "Reference destination tokens: {'vez.', 'intenta', 'otra'}\n",
      "Decoded output tokens: {'vez.', 'otra', 'inténtalo'}\n",
      "Overlapping words: {'vez.', 'otra'}\n",
      "------------------\n",
      "\n",
      "Index: 4088\n",
      "Reference source: Mborayhu niko ñyrô\n",
      "Reference destination: El amor es perdón\n",
      "Decoded output: El amor es plenitud\n",
      "\n",
      "Reference destination tokens: {'amor', 'El', 'perdón', 'es'}\n",
      "Decoded output tokens: {'amor', 'El', 'plenitud', 'es'}\n",
      "Overlapping words: {'amor', 'El', 'es'}\n",
      "------------------\n",
      "\n",
      "Index: 4289\n",
      "Reference source: OJEKUAAUKÁTA GUARANI ÑE'Ẽ JEHAIRÃ MBOJOJAHAKUÉRA.\n",
      "Reference destination: PRESENTARÁN LAS REGLAS ORTOGRÁFICAS DEL GUARANÍ\n",
      "Decoded output: LAS REGLAS ORTOGRÁFICAS DEL GUARANI.\n",
      "\n",
      "Reference destination tokens: {'GUARANÍ', 'PRESENTARÁN', 'DEL', 'LAS', 'ORTOGRÁFICAS', 'REGLAS'}\n",
      "Decoded output tokens: {'GUARANI.', 'DEL', 'LAS', 'ORTOGRÁFICAS', 'REGLAS'}\n",
      "Overlapping words: {'ORTOGRÁFICAS', 'REGLAS', 'DEL', 'LAS'}\n",
      "------------------\n",
      "\n",
      "Index: 4689\n",
      "Reference source: Ministerio del Ambiente y Desarrollo Sostenible (Mades) orekóma línea telefónicaojejapo haguã denuncia WhatsApp.\n",
      "Reference destination: El Ministerio del Ambiente y Desarrollo Sostenible (Mades) habilitó una línea telefónica para realizar denuncias por WhatsApp.\n",
      "Decoded output: El Ministerio del Ambiente y Desarrollo Sostenible (Mades) llegó a orillas del río Paraguay.\n",
      "\n",
      "Reference destination tokens: {'Ambiente', 'Sostenible', 'una', 'por', 'del', 'Desarrollo', 'Ministerio', 'y', 'El', 'WhatsApp.', 'denuncias', '(Mades)', 'telefónica', 'para', 'habilitó', 'realizar', 'línea'}\n",
      "Decoded output tokens: {'Ambiente', 'Sostenible', 'orillas', 'del', 'Desarrollo', 'Ministerio', 'llegó', 'y', 'El', 'río', 'Paraguay.', 'a', '(Mades)'}\n",
      "Overlapping words: {'Ambiente', 'Sostenible', 'Desarrollo', 'del', 'Ministerio', 'y', 'El', '(Mades)'}\n",
      "------------------\n"
     ]
    }
   ],
   "source": [
    "best_indexes = get_ordered_score_indexes(list(sacrebleu_scores), best=True, limit=10)\n",
    "show_translations(best_indexes, reference_source_gn, reference_destination_es, decoded_outputs)"
   ]
  },
  {
   "attachments": {},
   "cell_type": "markdown",
   "metadata": {},
   "source": [
    "Curiosidad: En el índice 3488 confunde la palabra \"igualdad\" con \"nosotros\"... ¿Casualidad?"
   ]
  },
  {
   "cell_type": "code",
   "execution_count": 83,
   "metadata": {},
   "outputs": [
    {
     "name": "stdout",
     "output_type": "stream",
     "text": [
      "\n",
      "Index: 0\n",
      "Reference source: ñemosẽ\n",
      "Reference destination: Expulsar\n",
      "Decoded output: deficiencia\n",
      "\n",
      "Reference destination tokens: {'Expulsar'}\n",
      "Decoded output tokens: {'deficiencia'}\n",
      "Overlapping words: set()\n",
      "------------------\n",
      "\n",
      "Index: 5\n",
      "Reference source: Haipy guaraníme ikatúva oñemboguejy reínte\n",
      "Reference destination: Obras en guaraní para descargar gratis\n",
      "Decoded output: En el siguiente panel fue un diccionario guaraní.\n",
      "\n",
      "Reference destination tokens: {'gratis', 'guaraní', 'descargar', 'en', 'para', 'Obras'}\n",
      "Decoded output tokens: {'un', 'En', 'fue', 'diccionario', 'panel', 'guaraní.', 'siguiente', 'el'}\n",
      "Overlapping words: set()\n",
      "------------------\n",
      "\n",
      "Index: 9\n",
      "Reference source: Uperiremi neakâguapy\n",
      "Reference destination: Al rato te calmas\n",
      "Decoded output: Concluyó diciendo\n",
      "\n",
      "Reference destination tokens: {'te', 'rato', 'Al', 'calmas'}\n",
      "Decoded output tokens: {'diciendo', 'Concluyó'}\n",
      "Overlapping words: set()\n",
      "------------------\n"
     ]
    }
   ],
   "source": [
    "worst_indexes = get_ordered_score_indexes(list(bleu_classic_scores), best=False)\n",
    "show_translations(worst_indexes, reference_source_gn, reference_destination_es, decoded_outputs)"
   ]
  },
  {
   "cell_type": "code",
   "execution_count": 84,
   "metadata": {},
   "outputs": [
    {
     "name": "stdout",
     "output_type": "stream",
     "text": [
      "\n",
      "Index: 0\n",
      "Reference source: ñemosẽ\n",
      "Reference destination: Expulsar\n",
      "Decoded output: deficiencia\n",
      "\n",
      "Reference destination tokens: {'Expulsar'}\n",
      "Decoded output tokens: {'deficiencia'}\n",
      "Overlapping words: set()\n",
      "------------------\n",
      "\n",
      "Index: 9\n",
      "Reference source: Uperiremi neakâguapy\n",
      "Reference destination: Al rato te calmas\n",
      "Decoded output: Concluyó diciendo\n",
      "\n",
      "Reference destination tokens: {'te', 'rato', 'Al', 'calmas'}\n",
      "Decoded output tokens: {'diciendo', 'Concluyó'}\n",
      "Overlapping words: set()\n",
      "------------------\n",
      "\n",
      "Index: 14\n",
      "Reference source: Ojehupi pasaje interior gotyo jeho\n",
      "Reference destination: Reajustan pasajes del interior\n",
      "Decoded output: “Adefesio” municipal en Avenida Quinta\n",
      "\n",
      "Reference destination tokens: {'Reajustan', 'pasajes', 'interior', 'del'}\n",
      "Decoded output tokens: {'“Adefesio”', 'Quinta', 'en', 'Avenida', 'municipal'}\n",
      "Overlapping words: set()\n",
      "------------------\n"
     ]
    }
   ],
   "source": [
    "worst_indexes = get_ordered_score_indexes(list(sacrebleu_scores), best=False)\n",
    "show_translations(worst_indexes, reference_source_gn, reference_destination_es, decoded_outputs)"
   ]
  },
  {
   "attachments": {},
   "cell_type": "markdown",
   "metadata": {},
   "source": [
    "### **¿What about the missing line?**"
   ]
  },
  {
   "cell_type": "code",
   "execution_count": 85,
   "metadata": {},
   "outputs": [],
   "source": [
    "def plot_values_by_index(scores):\n",
    "    sns.set_style('darkgrid')\n",
    "    x = list(range(len(scores)))\n",
    "    y = scores\n",
    "    plt.plot(x, y)\n",
    "    plt.show()"
   ]
  },
  {
   "cell_type": "code",
   "execution_count": 86,
   "metadata": {},
   "outputs": [
    {
     "data": {
      "image/png": "[encoded data removed]",
      "text/plain": [
       "<Figure size 640x480 with 1 Axes>"
      ]
     },
     "metadata": {},
     "output_type": "display_data"
    },
    {
     "data": {
      "image/png": "[encoded data removed]",
      "text/plain": [
       "<Figure size 640x480 with 1 Axes>"
      ]
     },
     "metadata": {},
     "output_type": "display_data"
    }
   ],
   "source": [
    "plot_values_by_index(bleu_classic_scores)\n",
    "plot_values_by_index(sacrebleu_scores)"
   ]
  },
  {
   "attachments": {},
   "cell_type": "markdown",
   "metadata": {},
   "source": [
    "Nothing seems to indicate that the missing line is causing problems..."
   ]
  },
  {
   "attachments": {},
   "cell_type": "markdown",
   "metadata": {},
   "source": [
    "Also, there seems to be considerable agreement between the classic BLEU score and SacreBLEU (except from low scores)."
   ]
  }
 ],
 "metadata": {
  "kernelspec": {
   "display_name": "Python 3",
   "language": "python",
   "name": "python3"
  },
  "language_info": {
   "codemirror_mode": {
    "name": "ipython",
    "version": 3
   },
   "file_extension": ".py",
   "mimetype": "text/x-python",
   "name": "python",
   "nbconvert_exporter": "python",
   "pygments_lexer": "ipython3",
   "version": "3.9.6"
  },
  "orig_nbformat": 4
 },
 "nbformat": 4,
 "nbformat_minor": 2
}
