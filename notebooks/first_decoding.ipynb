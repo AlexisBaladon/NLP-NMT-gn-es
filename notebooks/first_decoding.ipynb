{
 "cells": [
  {
   "attachments": {},
   "cell_type": "markdown",
   "metadata": {},
   "source": [
    "# **Analysis of decoding results**"
   ]
  },
  {
   "attachments": {},
   "cell_type": "markdown",
   "metadata": {},
   "source": [
    "## **Libraries**"
   ]
  },
  {
   "cell_type": "code",
   "execution_count": 3,
   "metadata": {},
   "outputs": [],
   "source": [
    "#%pip install pandas matplotlib seaborn nltk"
   ]
  },
  {
   "cell_type": "code",
   "execution_count": 35,
   "metadata": {},
   "outputs": [],
   "source": [
    "import os\n",
    "import re\n",
    "import warnings\n",
    "\n",
    "import pandas as pd\n",
    "import seaborn as sns\n",
    "import matplotlib.pyplot as plt \n",
    "import nltk\n",
    "\n",
    "import constants"
   ]
  },
  {
   "attachments": {},
   "cell_type": "markdown",
   "metadata": {},
   "source": [
    "## **Directories**"
   ]
  },
  {
   "cell_type": "code",
   "execution_count": 5,
   "metadata": {},
   "outputs": [],
   "source": [
    "DATA_FOLDER = constants.DATA_FOLDER\n",
    "\n",
    "DECODED_OUTPUTS = os.path.join(DATA_FOLDER, 'first_decode_checkpoint_100-50.log')\n",
    "REFERENCE_SOURCE_GN = os.path.join(DATA_FOLDER, 'first_val_gn.txt')\n",
    "REFERENCE_DESTINATION_ES = os.path.join(DATA_FOLDER, 'first_val_es.txt')"
   ]
  },
  {
   "cell_type": "code",
   "execution_count": 6,
   "metadata": {},
   "outputs": [],
   "source": [
    "with open(REFERENCE_SOURCE_GN, 'r', encoding='utf-8') as f:\n",
    "    reference_source_gn = f.readlines()\n",
    "\n",
    "with open(REFERENCE_DESTINATION_ES, 'r', encoding='utf-8') as f:\n",
    "    reference_destination_es = f.readlines()\n",
    "\n",
    "with open(DECODED_OUTPUTS, 'r', encoding='utf-8') as f:\n",
    "    decoded_outputs = f.readlines()"
   ]
  },
  {
   "attachments": {},
   "cell_type": "markdown",
   "metadata": {},
   "source": [
    "## **Checking the files**"
   ]
  },
  {
   "cell_type": "code",
   "execution_count": 7,
   "metadata": {},
   "outputs": [
    {
     "name": "stdout",
     "output_type": "stream",
     "text": [
      "Number of lines in reference source: 4939\n",
      "Number of lines in reference destination: 4939\n",
      "Number of lines in decoded outputs: 4938\n"
     ]
    }
   ],
   "source": [
    "print(f'Number of lines in reference source: {len(reference_source_gn)}')\n",
    "print(f'Number of lines in reference destination: {len(reference_destination_es)}')\n",
    "print(f'Number of lines in decoded outputs: {len(decoded_outputs)}')"
   ]
  },
  {
   "attachments": {},
   "cell_type": "markdown",
   "metadata": {},
   "source": [
    "There is a difference of 1 between the number of lines in the decoded outputs and the number of lines in the original inputs."
   ]
  },
  {
   "cell_type": "code",
   "execution_count": 8,
   "metadata": {},
   "outputs": [
    {
     "name": "stdout",
     "output_type": "stream",
     "text": [
      "Empty line at index 1188 from decoded outputs\n"
     ]
    }
   ],
   "source": [
    "for idx, (elem_ref, elem_dest, decoded) in enumerate(zip(reference_source_gn, reference_destination_es, decoded_outputs)):\n",
    "    if elem_ref.strip() == '':\n",
    "        print(f'Empty line at index {idx} from reference source')\n",
    "\n",
    "    if elem_dest.strip() == '':\n",
    "        print(f'Empty line at index {idx} from reference destination')\n",
    "\n",
    "    if decoded.strip() == '':\n",
    "        print(f'Empty line at index {idx} from decoded outputs')"
   ]
  },
  {
   "attachments": {},
   "cell_type": "markdown",
   "metadata": {},
   "source": [
    "This extra line is not a problem, as the decoded file can output empty lines. However, it remains unclear why the length of the files are different."
   ]
  },
  {
   "attachments": {},
   "cell_type": "markdown",
   "metadata": {},
   "source": [
    "## **Score analysis**"
   ]
  },
  {
   "attachments": {},
   "cell_type": "markdown",
   "metadata": {},
   "source": [
    "### **Examples of BLEU score**"
   ]
  },
  {
   "cell_type": "code",
   "execution_count": 63,
   "metadata": {},
   "outputs": [],
   "source": [
    "def silence_warnings(func):\n",
    "    def wrapper(*args, **kwargs):\n",
    "        with warnings.catch_warnings():\n",
    "            warnings.simplefilter(\"ignore\")\n",
    "            return func(*args, **kwargs)\n",
    "    return wrapper"
   ]
  },
  {
   "cell_type": "code",
   "execution_count": 64,
   "metadata": {},
   "outputs": [
    {
     "name": "stdout",
     "output_type": "stream",
     "text": [
      "BLEU score of 1.0 for: \n",
      "['Today', 'is', 'a', 'new', 'day'] \n",
      "['Today', 'is', 'a', 'new', 'day']\n",
      "1-gram BLEU score of 1.0\n",
      "\n",
      "BLEU score of 1.2183324802375697e-231 for: \n",
      "['Today'] \n",
      "['Today', 'is', 'a', 'new', 'day']\n",
      "1-gram BLEU score of 0.2\n",
      "\n",
      "BLEU score of 1.4488496539373276e-231 for: \n",
      "['Yesterday', 'was', 'a', 'good', 'day'] \n",
      "['Today', 'is', 'a', 'new', 'day']\n",
      "1-gram BLEU score of 0.4\n",
      "\n"
     ]
    }
   ],
   "source": [
    "correct_reference = ['Today', 'is', 'a', 'new', 'day']\n",
    "short_reference = ['Today']\n",
    "wrong_reference = ['Yesterday', 'was', 'a', 'good', 'day']\n",
    "\n",
    "translated = ['Today', 'is', 'a', 'new', 'day']\n",
    "\n",
    "@silence_warnings\n",
    "def show_bleu_example(reference, translated):\n",
    "    bleu_score = nltk.translate.bleu_score.sentence_bleu([reference], translated)\n",
    "    bleu_score_1gram = nltk.translate.bleu_score.sentence_bleu([reference], translated, weights=(1, 0, 0, 0))\n",
    "    print(f'BLEU score of {bleu_score} for: \\n{reference} \\n{translated}')\n",
    "    print(f'1-gram BLEU score of {bleu_score_1gram}', end='\\n\\n')\n",
    "\n",
    "for reference in [correct_reference, short_reference, wrong_reference]:\n",
    "    show_bleu_example(reference, translated)"
   ]
  },
  {
   "attachments": {},
   "cell_type": "markdown",
   "metadata": {},
   "source": [
    "### **Show BLEU score distribution**"
   ]
  },
  {
   "cell_type": "code",
   "execution_count": 76,
   "metadata": {},
   "outputs": [],
   "source": [
    "@silence_warnings\n",
    "def calculate_BLEU_score(reference_destination, decoded_outputs):\n",
    "    bleu_scores = []\n",
    "    bleu_scores_1gram = []\n",
    "\n",
    "    for idx, (dest_ref, decoded) in enumerate(zip(reference_destination, decoded_outputs)):\n",
    "        # Tokenized by spaces because of the lack of a guarani tokenizer\n",
    "        tokenized_ref = dest_ref.strip().split(' ')\n",
    "        tokenized_decoded = decoded.strip().split(' ')\n",
    "        bleu_score = nltk.translate.bleu_score.sentence_bleu([tokenized_ref], tokenized_decoded)\n",
    "        bleu_score_1gram = nltk.translate.bleu_score.sentence_bleu([tokenized_ref], tokenized_decoded, weights=(1, 0, 0, 0))\n",
    "        bleu_scores.append(bleu_score)\n",
    "        bleu_scores_1gram.append(bleu_score_1gram)\n",
    "\n",
    "    return bleu_scores, bleu_scores_1gram"
   ]
  },
  {
   "cell_type": "code",
   "execution_count": 140,
   "metadata": {},
   "outputs": [],
   "source": [
    "bleu_scores, bleu_scores_1gram = calculate_BLEU_score(reference_destination_es, decoded_outputs)"
   ]
  },
  {
   "cell_type": "code",
   "execution_count": 145,
   "metadata": {},
   "outputs": [
    {
     "data": {
      "text/html": [
       "<div>\n",
       "<style scoped>\n",
       "    .dataframe tbody tr th:only-of-type {\n",
       "        vertical-align: middle;\n",
       "    }\n",
       "\n",
       "    .dataframe tbody tr th {\n",
       "        vertical-align: top;\n",
       "    }\n",
       "\n",
       "    .dataframe thead th {\n",
       "        text-align: right;\n",
       "    }\n",
       "</style>\n",
       "<table border=\"1\" class=\"dataframe\">\n",
       "  <thead>\n",
       "    <tr style=\"text-align: right;\">\n",
       "      <th></th>\n",
       "      <th>BLEU score</th>\n",
       "      <th>1-gram BLEU score</th>\n",
       "      <th>Percentage BLEU score</th>\n",
       "    </tr>\n",
       "  </thead>\n",
       "  <tbody>\n",
       "    <tr>\n",
       "      <th>count</th>\n",
       "      <td>4,938.00000</td>\n",
       "      <td>4,938.00000</td>\n",
       "      <td>4,938.00000</td>\n",
       "    </tr>\n",
       "    <tr>\n",
       "      <th>mean</th>\n",
       "      <td>0.00289</td>\n",
       "      <td>0.10831</td>\n",
       "      <td>0.28894</td>\n",
       "    </tr>\n",
       "    <tr>\n",
       "      <th>std</th>\n",
       "      <td>0.03333</td>\n",
       "      <td>0.09874</td>\n",
       "      <td>3.33282</td>\n",
       "    </tr>\n",
       "    <tr>\n",
       "      <th>min</th>\n",
       "      <td>0.00000</td>\n",
       "      <td>0.00000</td>\n",
       "      <td>0.00000</td>\n",
       "    </tr>\n",
       "    <tr>\n",
       "      <th>25%</th>\n",
       "      <td>0.00000</td>\n",
       "      <td>0.00000</td>\n",
       "      <td>0.00000</td>\n",
       "    </tr>\n",
       "    <tr>\n",
       "      <th>50%</th>\n",
       "      <td>0.00000</td>\n",
       "      <td>0.10256</td>\n",
       "      <td>0.00000</td>\n",
       "    </tr>\n",
       "    <tr>\n",
       "      <th>75%</th>\n",
       "      <td>0.00000</td>\n",
       "      <td>0.16345</td>\n",
       "      <td>0.00000</td>\n",
       "    </tr>\n",
       "    <tr>\n",
       "      <th>max</th>\n",
       "      <td>1.00000</td>\n",
       "      <td>1.00000</td>\n",
       "      <td>100.00000</td>\n",
       "    </tr>\n",
       "  </tbody>\n",
       "</table>\n",
       "</div>"
      ],
      "text/plain": [
       "        BLEU score 1-gram BLEU score Percentage BLEU score\n",
       "count  4,938.00000       4,938.00000           4,938.00000\n",
       "mean       0.00289           0.10831               0.28894\n",
       "std        0.03333           0.09874               3.33282\n",
       "min        0.00000           0.00000               0.00000\n",
       "25%        0.00000           0.00000               0.00000\n",
       "50%        0.00000           0.10256               0.00000\n",
       "75%        0.00000           0.16345               0.00000\n",
       "max        1.00000           1.00000             100.00000"
      ]
     },
     "execution_count": 145,
     "metadata": {},
     "output_type": "execute_result"
    }
   ],
   "source": [
    "percentage_bleu_scores = [score * 100 for score in bleu_scores]\n",
    "score_summary = pd.DataFrame({'BLEU score': bleu_scores, '1-gram BLEU score': bleu_scores_1gram, 'Percentage BLEU score': percentage_bleu_scores})\n",
    "#show numeric values with commas\n",
    "score_summary.describe().applymap('{:,.5f}'.format)"
   ]
  },
  {
   "attachments": {},
   "cell_type": "markdown",
   "metadata": {},
   "source": [
    "This does not align with the BLEU score returned by marian."
   ]
  },
  {
   "attachments": {},
   "cell_type": "markdown",
   "metadata": {},
   "source": [
    "TODO: Sentences shorter than 4 words are not well-suited for BLEU scoring."
   ]
  },
  {
   "cell_type": "code",
   "execution_count": 93,
   "metadata": {},
   "outputs": [
    {
     "name": "stdout",
     "output_type": "stream",
     "text": [
      "ñemosẽ\n",
      "Expulsar\n",
      "deficiencia\n",
      "0\n",
      "\n",
      "Jepe héra he'i, Snake River ndorekói mbói ipype.Héra upéicha ikoni rupi S-icha.\n",
      "A pesar de su nombre, en Snake River no hay serpientes; se llama así por su forma de S.\n",
      "Sin embargo, no le “encantaría no ser esperar sin embargo, la carne paraguaya o por \"vendido\".\n",
      "8.980605341426996e-232\n",
      "\n",
      "Cartista-kuéra oñeha’ã banca oike Asociación Nacional Republicana (ANR), péva correligionario Ramón Retamozo.\n",
      "Cartistas insisten en que la banca le corresponde a la Asociación Nacional Republicana (ANR), específicamente a su correligionario Ramón Retamozo.\n",
      "Tras su discurso en el Partido Liberal Radical Auténtico (PLRA), anunció que el acuerdo fue presentado en la Cámara Baja.\n",
      "1.2183324802375697e-231\n",
      "\n"
     ]
    }
   ],
   "source": [
    "limit = 3\n",
    "zipped_scores = list(zip(reference_source_gn, reference_destination_es, decoded_outputs, bleu_scores))\n",
    "for zipped_score in zipped_scores[:limit]:\n",
    "    for text in zipped_score:\n",
    "        if type(text) == str:\n",
    "            print(str(text)[:-1])\n",
    "        else:\n",
    "            print(text)\n",
    "    print()"
   ]
  },
  {
   "cell_type": "code",
   "execution_count": 127,
   "metadata": {},
   "outputs": [],
   "source": [
    "def plot_scores(scores, title, xlabel):\n",
    "    sns.set_style('darkgrid')\n",
    "    ax = sns.displot(scores, kind='kde', fill=True)\n",
    "    ax.set(xlabel=xlabel, ylabel='Density', title=title)"
   ]
  },
  {
   "cell_type": "code",
   "execution_count": 131,
   "metadata": {},
   "outputs": [
    {
     "name": "stdout",
     "output_type": "stream",
     "text": [
      "Number of positive BLEU scores: 4938\n",
      "Number of BLEU scores greater than epsilon: 73\n",
      "Number of acceptable BLEU scores: 13\n"
     ]
    },
    {
     "data": {
      "image/png": "[encoded data removed]",
      "text/plain": [
       "<Figure size 500x500 with 1 Axes>"
      ]
     },
     "metadata": {},
     "output_type": "display_data"
    },
    {
     "data": {
      "image/png": "[encoded data removed]",
      "text/plain": [
       "<Figure size 500x500 with 1 Axes>"
      ]
     },
     "metadata": {},
     "output_type": "display_data"
    },
    {
     "data": {
      "image/png": "[encoded data removed]",
      "text/plain": [
       "<Figure size 500x500 with 1 Axes>"
      ]
     },
     "metadata": {},
     "output_type": "display_data"
    }
   ],
   "source": [
    "acceptance_threshold = 0.3\n",
    "epsilon = 0.0001\n",
    "\n",
    "non_negligible_bleu_scores = [score for score in bleu_scores if score > epsilon]\n",
    "acceptable = [score for score in bleu_scores if score > acceptance_threshold]\n",
    "\n",
    "print(f'Number of positive BLEU scores: {len(bleu_scores)}')\n",
    "plot_scores(bleu_scores, 'BLEU scores', 'BLEU score')\n",
    "\n",
    "print(f'Number of BLEU scores greater than epsilon: {len(non_negligible_bleu_scores)}')\n",
    "plot_scores(non_negligible_bleu_scores, 'BLEU scores without 0s', 'BLEU score')\n",
    "\n",
    "print(f'Number of acceptable BLEU scores: {len(acceptable)}')\n",
    "plot_scores(acceptable, 'Acceptable BLEU scores', 'BLEU score')"
   ]
  },
  {
   "attachments": {},
   "cell_type": "markdown",
   "metadata": {},
   "source": [
    "### **Better BLEU scores**"
   ]
  },
  {
   "cell_type": "code",
   "execution_count": 136,
   "metadata": {},
   "outputs": [],
   "source": [
    "def get_ordered_score_indexes(scores, best=True, limit=3):\n",
    "    return sorted(range(len(scores)), key=lambda i: scores[i], reverse=best)[:limit]\n",
    "\n",
    "def show_translations(indexes, reference_source, reference_destination, decoded_outputs):\n",
    "    for idx in indexes:\n",
    "        print()\n",
    "        print(f'Index: {idx}')\n",
    "        print(f'Reference source: {reference_source[idx][:-1]}')\n",
    "        print(f'Reference destination: {reference_destination[idx][:-1]}')\n",
    "        print(f'Decoded output: {decoded_outputs[idx]}')\n",
    "        reference_destination_tokens = set(reference_destination[idx].strip().split(' '))\n",
    "        decoded_output_tokens = set(decoded_outputs[idx].strip().split(' '))\n",
    "        print(f'Reference destination tokens: {reference_destination_tokens}')\n",
    "        print(f'Decoded output tokens: {decoded_output_tokens}')\n",
    "        overlapping_words = reference_destination_tokens.intersection(decoded_output_tokens)\n",
    "        print(f'Overlapping words: {overlapping_words}')\n",
    "        print('------------------')"
   ]
  },
  {
   "cell_type": "code",
   "execution_count": 146,
   "metadata": {},
   "outputs": [
    {
     "name": "stdout",
     "output_type": "stream",
     "text": [
      "\n",
      "Index: 1610\n",
      "Reference source: pe aranduka morotĩ\n",
      "Reference destination: el libro es blanco.\n",
      "Decoded output: el libro es blanco.\n",
      "\n",
      "Reference destination tokens: {'blanco.', 'libro', 'el', 'es'}\n",
      "Decoded output tokens: {'blanco.', 'libro', 'el', 'es'}\n",
      "Overlapping words: {'blanco.', 'libro', 'el', 'es'}\n",
      "------------------\n",
      "\n",
      "Index: 2717\n",
      "Reference source: OÑEMBOSAKO'I AMANDAJE GUASU ÑE'Ẽ RAPEREKA PARAGUÁIPE REHEGUA.\n",
      "Reference destination: ORGANIZAN II SEMINARIO-TALLER SOBRE INVESTIGACIÓN LINGŨÍSTICA EN PARAGUAY.\n",
      "Decoded output: SEMINARIO-TALLER SOBRE INVESTIGACIÓN LINGŨÍSTICA EN PARAGUAY.\n",
      "\n",
      "Reference destination tokens: {'EN', 'SOBRE', 'LINGŨÍSTICA', 'PARAGUAY.', 'INVESTIGACIÓN', 'SEMINARIO-TALLER', 'ORGANIZAN', 'II'}\n",
      "Decoded output tokens: {'EN', 'SOBRE', 'LINGŨÍSTICA', 'PARAGUAY.', 'INVESTIGACIÓN', 'SEMINARIO-TALLER'}\n",
      "Overlapping words: {'EN', 'SOBRE', 'LINGŨÍSTICA', 'PARAGUAY.', 'INVESTIGACIÓN', 'SEMINARIO-TALLER'}\n",
      "------------------\n",
      "\n",
      "Index: 4024\n",
      "Reference source: TEMBIAPORÃ'ATY “ROHAYHU CHE ÑE'Ẽ” 2017 REHEGUA\n",
      "Reference destination: AGENDA DE ACTIVIDADES DE “ROHAYHU CHE ÑE'Ẽ” 2017\n",
      "Decoded output: AGENDA DE ACTIVIDADES DE “ROHAYHU CHE ÑE'Ẽ”.\n",
      "\n",
      "Reference destination tokens: {'CHE', \"ÑE'Ẽ”\", '“ROHAYHU', 'ACTIVIDADES', 'AGENDA', 'DE', '2017'}\n",
      "Decoded output tokens: {'CHE', '“ROHAYHU', \"ÑE'Ẽ”.\", 'ACTIVIDADES', 'AGENDA', 'DE'}\n",
      "Overlapping words: {'CHE', '“ROHAYHU', 'ACTIVIDADES', 'AGENDA', 'DE'}\n",
      "------------------\n",
      "\n",
      "Index: 4355\n",
      "Reference source: OÑEMBOSAKO'I PETEĨ AMANDAJE ÑE'Ẽ RAPEREKA PARAGUÁIPE REHEGUA.\n",
      "Reference destination: ORGANIZAN SEMINARIO-TALLER SOBRE INVESTIGACIÓN LINGŨÍSTICA EN PARAGUAY.\n",
      "Decoded output: ORGANIZAN CHARLA SOBRE INVESTIGACIÓN LINGŨÍSTICA EN PARAGUAY.\n",
      "\n",
      "Reference destination tokens: {'EN', 'SOBRE', 'LINGŨÍSTICA', 'PARAGUAY.', 'INVESTIGACIÓN', 'SEMINARIO-TALLER', 'ORGANIZAN'}\n",
      "Decoded output tokens: {'EN', 'SOBRE', 'LINGŨÍSTICA', 'PARAGUAY.', 'INVESTIGACIÓN', 'ORGANIZAN', 'CHARLA'}\n",
      "Overlapping words: {'EN', 'SOBRE', 'LINGŨÍSTICA', 'PARAGUAY.', 'INVESTIGACIÓN', 'ORGANIZAN'}\n",
      "------------------\n",
      "\n",
      "Index: 2666\n",
      "Reference source: (*) ohupi peteĩ avatar pyahu\n",
      "Reference destination: (*) ha cargado un nuevo avatar\n",
      "Decoded output: (*) ha cargado un nuevo avatar para el grupo\n",
      "\n",
      "Reference destination tokens: {'ha', '(*)', 'un', 'avatar', 'cargado', 'nuevo'}\n",
      "Decoded output tokens: {'ha', 'para', '(*)', 'un', 'avatar', 'grupo', 'el', 'cargado', 'nuevo'}\n",
      "Overlapping words: {'ha', '(*)', 'un', 'avatar', 'cargado', 'nuevo'}\n",
      "------------------\n",
      "\n",
      "Index: 4289\n",
      "Reference source: OJEKUAAUKÁTA GUARANI ÑE'Ẽ JEHAIRÃ MBOJOJAHAKUÉRA.\n",
      "Reference destination: PRESENTARÁN LAS REGLAS ORTOGRÁFICAS DEL GUARANÍ\n",
      "Decoded output: LAS REGLAS ORTOGRÁFICAS DEL GUARANI.\n",
      "\n",
      "Reference destination tokens: {'ORTOGRÁFICAS', 'PRESENTARÁN', 'LAS', 'GUARANÍ', 'REGLAS', 'DEL'}\n",
      "Decoded output tokens: {'ORTOGRÁFICAS', 'LAS', 'GUARANI.', 'REGLAS', 'DEL'}\n",
      "Overlapping words: {'ORTOGRÁFICAS', 'LAS', 'REGLAS', 'DEL'}\n",
      "------------------\n",
      "\n",
      "Index: 2113\n",
      "Reference source: SÃMBYHYHÁRA ALCARAZ OHESA'ỸIJO DERÉCHO ÑE'ẼNGUÉRA REHEGUA.\n",
      "Reference destination: MINISTRA DE LA SPL DISERTÓ SOBRE DERECHOS LINGŨÍSTICOS.\n",
      "Decoded output: MINISTRA DE LA SPL DISERTÓ SOBRE.\n",
      "\n",
      "Reference destination tokens: {'SOBRE', 'SPL', 'LA', 'DISERTÓ', 'MINISTRA', 'DE', 'LINGŨÍSTICOS.', 'DERECHOS'}\n",
      "Decoded output tokens: {'SOBRE.', 'SPL', 'LA', 'DISERTÓ', 'MINISTRA', 'DE'}\n",
      "Overlapping words: {'LA', 'DE', 'DISERTÓ', 'MINISTRA', 'SPL'}\n",
      "------------------\n",
      "\n",
      "Index: 3488\n",
      "Reference source: Jekupyty niko oĩ tembijojápe,\n",
      "Reference destination: La solidaridad está en la igualdad,\n",
      "Decoded output: La solidaridad está en todos nosotros,\n",
      "\n",
      "Reference destination tokens: {'solidaridad', 'está', 'en', 'igualdad,', 'la', 'La'}\n",
      "Decoded output tokens: {'solidaridad', 'está', 'todos', 'en', 'nosotros,', 'La'}\n",
      "Overlapping words: {'en', 'solidaridad', 'La', 'está'}\n",
      "------------------\n",
      "\n",
      "Index: 3904\n",
      "Reference source: Jekupyty niko oĩ mba’e vai apo jehejareípe,\n",
      "Reference destination: La solidaridad está en el perdón,\n",
      "Decoded output: La solidaridad está en la región.\n",
      "\n",
      "Reference destination tokens: {'solidaridad', 'está', 'en', 'perdón,', 'el', 'La'}\n",
      "Decoded output tokens: {'solidaridad', 'región.', 'está', 'en', 'la', 'La'}\n",
      "Overlapping words: {'en', 'solidaridad', 'La', 'está'}\n",
      "------------------\n",
      "\n",
      "Index: 1431\n",
      "Reference source: PÑS SÃMBYHYHÁRA OMOIRŨ CONGRESO DE EDUCACIÓN ARTÍSTICA ÑEMOÑEPYRŨ.\n",
      "Reference destination: MINISTRA DE LA SPL ACOMPAÑÓ LA APERTURA DEL CONGRESO DE EDUCACIÓN ARTÍSTICA.\n",
      "Decoded output: MINISTRA DE LA SPL ACOMPAÑÓ LA SPL DISERTÓ SOBRE.\n",
      "\n",
      "Reference destination tokens: {'CONGRESO', 'EDUCACIÓN', 'ACOMPAÑÓ', 'SPL', 'LA', 'APERTURA', 'ARTÍSTICA.', 'MINISTRA', 'DE', 'DEL'}\n",
      "Decoded output tokens: {'SOBRE.', 'ACOMPAÑÓ', 'SPL', 'LA', 'DISERTÓ', 'MINISTRA', 'DE'}\n",
      "Overlapping words: {'ACOMPAÑÓ', 'LA', 'DE', 'MINISTRA', 'SPL'}\n",
      "------------------\n"
     ]
    }
   ],
   "source": [
    "best_indexes = get_ordered_score_indexes(bleu_scores, best=True, limit=10)\n",
    "show_translations(best_indexes, reference_source_gn, reference_destination_es, decoded_outputs)"
   ]
  },
  {
   "attachments": {},
   "cell_type": "markdown",
   "metadata": {},
   "source": [
    "Curiosidad: En el índice 3488 confunde la palabra \"igualdad\" con \"nosotros\"... ¿Casualidad?"
   ]
  },
  {
   "cell_type": "code",
   "execution_count": 138,
   "metadata": {},
   "outputs": [
    {
     "name": "stdout",
     "output_type": "stream",
     "text": [
      "\n",
      "Index: 0\n",
      "Reference source: ñemosẽ\n",
      "Reference destination: Expulsar\n",
      "Decoded output: deficiencia\n",
      "\n",
      "Reference destination tokens: {'Expulsar'}\n",
      "Decoded output tokens: {'deficiencia'}\n",
      "Overlapping words: set()\n",
      "------------------\n",
      "\n",
      "Index: 5\n",
      "Reference source: Haipy guaraníme ikatúva oñemboguejy reínte\n",
      "Reference destination: Obras en guaraní para descargar gratis\n",
      "Decoded output: En el siguiente panel fue un diccionario guaraní.\n",
      "\n",
      "Reference destination tokens: {'descargar', 'para', 'Obras', 'en', 'gratis', 'guaraní'}\n",
      "Decoded output tokens: {'guaraní.', 'un', 'siguiente', 'el', 'diccionario', 'panel', 'En', 'fue'}\n",
      "Overlapping words: set()\n",
      "------------------\n",
      "\n",
      "Index: 9\n",
      "Reference source: Uperiremi neakâguapy\n",
      "Reference destination: Al rato te calmas\n",
      "Decoded output: Concluyó diciendo\n",
      "\n",
      "Reference destination tokens: {'rato', 'te', 'Al', 'calmas'}\n",
      "Decoded output tokens: {'Concluyó', 'diciendo'}\n",
      "Overlapping words: set()\n",
      "------------------\n"
     ]
    }
   ],
   "source": [
    "worst_indexes = get_ordered_score_indexes(bleu_scores, best=False)\n",
    "show_translations(worst_indexes, reference_source_gn, reference_destination_es, decoded_outputs)"
   ]
  },
  {
   "attachments": {},
   "cell_type": "markdown",
   "metadata": {},
   "source": [
    "### **¿What about the missing line?**"
   ]
  },
  {
   "cell_type": "code",
   "execution_count": 132,
   "metadata": {},
   "outputs": [],
   "source": [
    "def plot_values_by_index(scores):\n",
    "    sns.set_style('darkgrid')\n",
    "    x = list(range(len(scores)))\n",
    "    y = scores\n",
    "    plt.plot(x, y)\n",
    "    plt.show()"
   ]
  },
  {
   "cell_type": "code",
   "execution_count": 133,
   "metadata": {},
   "outputs": [
    {
     "data": {
      "image/png": "[encoded data removed]",
      "text/plain": [
       "<Figure size 640x480 with 1 Axes>"
      ]
     },
     "metadata": {},
     "output_type": "display_data"
    }
   ],
   "source": [
    "plot_values_by_index(bleu_scores)"
   ]
  },
  {
   "attachments": {},
   "cell_type": "markdown",
   "metadata": {},
   "source": [
    "Nothing seems to indicate that the missing line is causing problems..."
   ]
  }
 ],
 "metadata": {
  "kernelspec": {
   "display_name": "Python 3",
   "language": "python",
   "name": "python3"
  },
  "language_info": {
   "codemirror_mode": {
    "name": "ipython",
    "version": 3
   },
   "file_extension": ".py",
   "mimetype": "text/x-python",
   "name": "python",
   "nbconvert_exporter": "python",
   "pygments_lexer": "ipython3",
   "version": "3.9.6"
  },
  "orig_nbformat": 4
 },
 "nbformat": 4,
 "nbformat_minor": 2
}
