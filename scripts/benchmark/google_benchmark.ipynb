{
 "cells": [
  {
   "cell_type": "code",
   "execution_count": null,
   "metadata": {},
   "outputs": [],
   "source": [
    "#%pip install google-cloud-translate==2.0.1"
   ]
  },
  {
   "cell_type": "code",
   "execution_count": 1,
   "metadata": {},
   "outputs": [],
   "source": [
    "from google.cloud import translate"
   ]
  },
  {
   "cell_type": "code",
   "execution_count": 14,
   "metadata": {},
   "outputs": [],
   "source": [
    "import os\n",
    "import time\n",
    "\n",
    "os.environ[\"GOOGLE_APPLICATION_CREDENTIALS\"] = os.path.join(os.getcwd(), \"service.json\")"
   ]
  },
  {
   "cell_type": "code",
   "execution_count": 15,
   "metadata": {},
   "outputs": [
    {
     "data": {
      "text/plain": [
       "'f:\\\\my_year2023\\\\PLN\\\\code\\\\MARIAN\\\\scripts\\\\benchmark\\\\service.json'"
      ]
     },
     "execution_count": 15,
     "metadata": {},
     "output_type": "execute_result"
    }
   ],
   "source": [
    "os.environ[\"GOOGLE_APPLICATION_CREDENTIALS\"]"
   ]
  },
  {
   "cell_type": "code",
   "execution_count": 16,
   "metadata": {},
   "outputs": [],
   "source": [
    "DATA_DIR = os.path.join('..', '..', 'artifacts', 'data')\n",
    "TEST_DIR = os.path.join(DATA_DIR, 'test')\n",
    "TEST_GN_FILEPATH = os.path.join(TEST_DIR, 'test.gn')\n",
    "TEST_ES_FILEPATH = os.path.join(TEST_DIR, 'test.es')"
   ]
  },
  {
   "cell_type": "code",
   "execution_count": 62,
   "metadata": {},
   "outputs": [],
   "source": [
    "def translate_text(text: list[str], src: str, trg: str, parent: str):\n",
    "    client = translate.TranslationServiceClient()\n",
    "\n",
    "    text = [t.encode(\"utf-8\") for t in text]\n",
    "\n",
    "    response = client.translate_text(parent=parent,\n",
    "                                     contents=text,\n",
    "                                     source_language_code=src,\n",
    "                                     target_language_code=trg,\n",
    "                                     mime_type=\"text/plain\") # mime types: text/plain, text/html\n",
    "\n",
    "    translation = response\n",
    "    return translation"
   ]
  },
  {
   "cell_type": "code",
   "execution_count": 63,
   "metadata": {},
   "outputs": [
    {
     "data": {
      "text/plain": [
       "translations {\n",
       "  translated_text: \"\\302\\241Ko\\'\\303\\241g\\303\\243 ha\\'e Cartes turno!\"\n",
       "}\n",
       "translations {\n",
       "  translated_text: \"jajohecha peve\"\n",
       "}"
      ]
     },
     "execution_count": 63,
     "metadata": {},
     "output_type": "execute_result"
    }
   ],
   "source": [
    "example = translate_text([\"Ahora es el turno de Cartes!\", \"chau\"], \n",
    "                         'es', \n",
    "                         'gn')\n",
    "example"
   ]
  },
  {
   "cell_type": "code",
   "execution_count": 64,
   "metadata": {},
   "outputs": [
    {
     "data": {
      "text/plain": [
       "[\"¡Ko'ágã ha'e Cartes turno!\", 'jajohecha peve']"
      ]
     },
     "execution_count": 64,
     "metadata": {},
     "output_type": "execute_result"
    }
   ],
   "source": [
    "def process_output(translations):\n",
    "    translations = translations.translations\n",
    "    return [translation.translated_text for translation in translations]\n",
    "    \n",
    "process_output(example)"
   ]
  },
  {
   "cell_type": "code",
   "execution_count": 65,
   "metadata": {},
   "outputs": [],
   "source": [
    "gn_test_text = []\n",
    "es_test_text = []\n",
    "data = {\n",
    "    \"gn\": {\n",
    "        \"text\": [],\n",
    "        \"translation_text\": [],\n",
    "        \"path\": TEST_GN_FILEPATH\n",
    "    },\n",
    "    \"es\": {\n",
    "        \"text\": [],\n",
    "        \"translation_text\": [],\n",
    "        \"path\": TEST_ES_FILEPATH\n",
    "    }\n",
    "}\n",
    "\n",
    "for language in data:\n",
    "    with open(data[language][\"path\"], 'r', encoding='utf-8') as f:\n",
    "        data[language][\"text\"] = f.readlines()"
   ]
  },
  {
   "cell_type": "code",
   "execution_count": 69,
   "metadata": {},
   "outputs": [
    {
     "data": {
      "text/plain": [
       "[\"Ko'ágã Cartes turno\\n\",\n",
       " \"Movilización ciudadana oñembyaty ko'ã tendáre residencia mburuvicha Horacio Cartes oîva avenida España.\\n\",\n",
       " \"Ko'ã manifestante omoî iñakãre ome'ê Yasyretã Argentina-pe, nota rupive.\\n\",\n",
       " \"Tavaygua ko'ã ary oñembyatýva calle España ha Soldado Desconocido  100 metro rupi oikohápe Cartes, ombotývo tape sapy'a py'a tavaguasúpe.\\n\",\n",
       " 'Ojehecha despliegue policial ohapejokóva manifestantekuéra Cartes róga rovái, ha ijerére.\\n']"
      ]
     },
     "execution_count": 69,
     "metadata": {},
     "output_type": "execute_result"
    }
   ],
   "source": [
    "data[\"gn\"][\"text\"][:5]"
   ]
  },
  {
   "cell_type": "code",
   "execution_count": 74,
   "metadata": {},
   "outputs": [
    {
     "name": "stdout",
     "output_type": "stream",
     "text": [
      "Batch completed:  0 - 100\n",
      "Batch completed:  1 - 200\n",
      "Batch completed:  2 - 300\n",
      "Batch completed:  3 - 400\n",
      "Batch completed:  4 - 500\n",
      "Batch completed:  5 - 600\n",
      "Batch completed:  6 - 700\n",
      "Batch completed:  7 - 800\n",
      "Batch completed:  8 - 900\n",
      "Batch completed:  9 - 1000\n",
      "Batch completed:  10 - 1100\n",
      "Batch completed:  11 - 1200\n",
      "Batch completed:  12 - 1300\n",
      "Batch completed:  13 - 1400\n",
      "Batch completed:  14 - 1500\n",
      "Batch completed:  15 - 1600\n",
      "Batch completed:  16 - 1700\n",
      "Batch completed:  17 - 1800\n",
      "Batch completed:  18 - 1900\n",
      "Batch completed:  19 - 2000\n",
      "Batch completed:  20 - 2100\n",
      "Batch completed:  21 - 2200\n",
      "Batch completed:  22 - 2300\n",
      "Batch completed:  23 - 2400\n",
      "Batch completed:  24 - 2500\n",
      "Batch completed:  25 - 2600\n",
      "Batch completed:  26 - 2700\n",
      "Batch completed:  27 - 2800\n",
      "Batch completed:  28 - 2900\n",
      "Batch completed:  29 - 3000\n",
      "Batch completed:  30 - 3100\n",
      "Batch completed:  31 - 3200\n",
      "Batch completed:  32 - 3300\n",
      "Batch completed:  33 - 3400\n",
      "Batch completed:  34 - 3500\n",
      "Batch completed:  35 - 3600\n",
      "Batch completed:  36 - 3700\n",
      "Batch completed:  37 - 3800\n",
      "Batch completed:  38 - 3900\n",
      "Batch completed:  39 - 4000\n",
      "Batch completed:  40 - 4100\n",
      "Batch completed:  41 - 4200\n",
      "Batch completed:  42 - 4300\n",
      "Batch completed:  43 - 4400\n",
      "Batch completed:  44 - 4500\n",
      "Batch completed:  45 - 4600\n",
      "Batch completed:  46 - 4700\n",
      "Batch completed:  47 - 4800\n",
      "Batch completed:  48 - 4900\n",
      "Batch completed:  49 - 5000\n",
      "Batch completed:  50 - 5100\n",
      "Batch completed:  51 - 5200\n",
      "Batch completed:  52 - 5300\n",
      "Batch completed:  53 - 5400\n",
      "Batch completed:  0 - 100\n",
      "Batch completed:  1 - 200\n",
      "Batch completed:  2 - 300\n",
      "Batch completed:  3 - 400\n",
      "Batch completed:  4 - 500\n",
      "Batch completed:  5 - 600\n",
      "Batch completed:  6 - 700\n",
      "Batch completed:  7 - 800\n",
      "Batch completed:  8 - 900\n",
      "Batch completed:  9 - 1000\n",
      "Batch completed:  10 - 1100\n",
      "Batch completed:  11 - 1200\n",
      "Batch completed:  12 - 1300\n",
      "Batch completed:  13 - 1400\n",
      "Batch completed:  14 - 1500\n",
      "Batch completed:  15 - 1600\n",
      "Batch completed:  16 - 1700\n",
      "Batch completed:  17 - 1800\n",
      "Batch completed:  18 - 1900\n",
      "Batch completed:  19 - 2000\n",
      "Batch completed:  20 - 2100\n",
      "Batch completed:  21 - 2200\n",
      "Batch completed:  22 - 2300\n",
      "Batch completed:  23 - 2400\n",
      "Batch completed:  24 - 2500\n",
      "Batch completed:  25 - 2600\n",
      "Batch completed:  26 - 2700\n",
      "Batch completed:  27 - 2800\n",
      "Batch completed:  28 - 2900\n",
      "Batch completed:  29 - 3000\n",
      "Batch completed:  30 - 3100\n",
      "Batch completed:  31 - 3200\n",
      "Batch completed:  32 - 3300\n",
      "Batch completed:  33 - 3400\n",
      "Batch completed:  34 - 3500\n",
      "Batch completed:  35 - 3600\n",
      "Batch completed:  36 - 3700\n",
      "Batch completed:  37 - 3800\n",
      "Batch completed:  38 - 3900\n",
      "Batch completed:  39 - 4000\n",
      "Batch completed:  40 - 4100\n",
      "Batch completed:  41 - 4200\n",
      "Batch completed:  42 - 4300\n",
      "Batch completed:  43 - 4400\n",
      "Batch completed:  44 - 4500\n",
      "Batch completed:  45 - 4600\n",
      "Batch completed:  46 - 4700\n",
      "Batch completed:  47 - 4800\n",
      "Batch completed:  48 - 4900\n",
      "Batch completed:  49 - 5000\n",
      "Batch completed:  50 - 5100\n",
      "Batch completed:  51 - 5200\n",
      "Batch completed:  52 - 5300\n",
      "Batch completed:  53 - 5400\n"
     ]
    }
   ],
   "source": [
    "batch_size = 100\n",
    "\n",
    "for idx, language in enumerate(data):\n",
    "    for idy, batch_text in enumerate([data[language][\"text\"][i:i+batch_size] \\\n",
    "                                      for i in range(0, \n",
    "                                                     len(data[language][\"text\"]), \n",
    "                                                     batch_size)]):\n",
    "        translated_text = translate_text(batch_text, \n",
    "                                         language, list(data.keys())[idx-1], \n",
    "                                         parent=os.environ[\"PARENT\"])\n",
    "        processed_translation = process_output(translated_text)\n",
    "        data[language][\"translation_text\"].extend(processed_translation)\n",
    "        print('Batch completed: ', idy, '-', batch_size*(idy+1))\n",
    "        time.sleep(1)\n",
    "                                       \n",
    "    with open(f'google_{language}_{list(data.keys())[idx-1]}.txt', 'w', encoding='utf-8') as f:\n",
    "        f.writelines(''.join(data[language][\"translation_text\"]))"
   ]
  }
 ],
 "metadata": {
  "kernelspec": {
   "display_name": "Python 3",
   "language": "python",
   "name": "python3"
  },
  "language_info": {
   "codemirror_mode": {
    "name": "ipython",
    "version": 3
   },
   "file_extension": ".py",
   "mimetype": "text/x-python",
   "name": "python",
   "nbconvert_exporter": "python",
   "pygments_lexer": "ipython3",
   "version": "3.9.6"
  },
  "orig_nbformat": 4
 },
 "nbformat": 4,
 "nbformat_minor": 2
}
