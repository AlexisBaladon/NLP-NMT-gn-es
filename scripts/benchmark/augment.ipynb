{
 "cells": [
  {
   "cell_type": "code",
   "execution_count": null,
   "metadata": {},
   "outputs": [],
   "source": [
    "#%pip install googletrans -U\n",
    "#%pip install google-cloud-translate==2.0.1"
   ]
  },
  {
   "cell_type": "code",
   "execution_count": 1,
   "metadata": {},
   "outputs": [],
   "source": [
    "\n",
    "from google.cloud import translate"
   ]
  },
  {
   "cell_type": "code",
   "execution_count": 14,
   "metadata": {},
   "outputs": [],
   "source": [
    "import os\n",
    "import collections\n",
    "import time\n",
    "\n",
    "#from googletrans import Translator\n",
    "os.environ[\"GOOGLE_APPLICATION_CREDENTIALS\"] = os.path.join(os.getcwd(), \"service.json\")"
   ]
  },
  {
   "cell_type": "code",
   "execution_count": 15,
   "metadata": {},
   "outputs": [
    {
     "data": {
      "text/plain": [
       "'f:\\\\my_year2023\\\\PLN\\\\code\\\\MARIAN\\\\scripts\\\\benchmark\\\\service.json'"
      ]
     },
     "execution_count": 15,
     "metadata": {},
     "output_type": "execute_result"
    }
   ],
   "source": [
    "os.environ[\"GOOGLE_APPLICATION_CREDENTIALS\"]"
   ]
  },
  {
   "cell_type": "code",
   "execution_count": 16,
   "metadata": {},
   "outputs": [],
   "source": [
    "DATA_DIR = os.path.join('..', '..', 'artifacts', 'data')\n",
    "TEST_DIR = os.path.join(DATA_DIR, 'test')\n",
    "TEST_GN_FILEPATH = os.path.join(TEST_DIR, 'test_gn.txt.gn')\n",
    "TEST_ES_FILEPATH = os.path.join(TEST_DIR, 'test_es.txt.es')"
   ]
  },
  {
   "cell_type": "code",
   "execution_count": 62,
   "metadata": {},
   "outputs": [],
   "source": [
    "#def translate(text: str, source_language: str, target_language: str):\n",
    "    # translator = Translator(service_urls=['translate.google.com'], proxies=None, timeout=None)\n",
    "    # translation = translator.translate(text, \n",
    "    #                                    src=source_language, \n",
    "    #                                    dest=target_language)\n",
    "    #return translation.text\n",
    "    \n",
    "\n",
    "def translate_text(text: list[str], src: str, trg: str):\n",
    "    # Create a Translation client\n",
    "    client = translate.TranslationServiceClient()\n",
    "\n",
    "    text = [t.encode(\"utf-8\") for t in text]\n",
    "\n",
    "    # Translate the text\n",
    "    response = client.translate_text(\n",
    "        parent=f\"projects/upheld-quasar-402113/locations/global\",\n",
    "        contents=text,\n",
    "        source_language_code=src,\n",
    "        target_language_code=trg,\n",
    "        mime_type=\"text/plain\",  # mime types: text/plain, text/html\n",
    "    )\n",
    "\n",
    "    # Extract the translation from the response\n",
    "    translation = response\n",
    "    return translation"
   ]
  },
  {
   "cell_type": "code",
   "execution_count": 63,
   "metadata": {},
   "outputs": [
    {
     "data": {
      "text/plain": [
       "translations {\n",
       "  translated_text: \"\\302\\241Ko\\'\\303\\241g\\303\\243 ha\\'e Cartes turno!\"\n",
       "}\n",
       "translations {\n",
       "  translated_text: \"jajohecha peve\"\n",
       "}"
      ]
     },
     "execution_count": 63,
     "metadata": {},
     "output_type": "execute_result"
    }
   ],
   "source": [
    "example = translate_text([\"Ahora es el turno de Cartes!\", \"chau\"], 'es', 'gn')\n",
    "example"
   ]
  },
  {
   "cell_type": "code",
   "execution_count": 64,
   "metadata": {},
   "outputs": [
    {
     "data": {
      "text/plain": [
       "[\"¡Ko'ágã ha'e Cartes turno!\", 'jajohecha peve']"
      ]
     },
     "execution_count": 64,
     "metadata": {},
     "output_type": "execute_result"
    }
   ],
   "source": [
    "def process_output(translations):\n",
    "    translations = translations.translations\n",
    "    return [translation.translated_text for translation in translations]\n",
    "    \n",
    "process_output(example)"
   ]
  },
  {
   "cell_type": "code",
   "execution_count": 65,
   "metadata": {},
   "outputs": [],
   "source": [
    "gn_test_text = []\n",
    "es_test_text = []\n",
    "data = {\n",
    "    \"gn\": {\n",
    "        \"text\": [],\n",
    "        \"translation_text\": [],\n",
    "        \"path\": TEST_GN_FILEPATH\n",
    "    },\n",
    "    \"es\": {\n",
    "        \"text\": [],\n",
    "        \"translation_text\": [],\n",
    "        \"path\": TEST_ES_FILEPATH\n",
    "    }\n",
    "}\n",
    "\n",
    "for language in data:\n",
    "    with open(data[language][\"path\"], 'r', encoding='utf-8') as f:\n",
    "        data[language][\"text\"] = f.readlines()"
   ]
  },
  {
   "cell_type": "code",
   "execution_count": 69,
   "metadata": {},
   "outputs": [
    {
     "data": {
      "text/plain": [
       "[\"Ko'ágã Cartes turno\\n\",\n",
       " \"Movilización ciudadana oñembyaty ko'ã tendáre residencia mburuvicha Horacio Cartes oîva avenida España.\\n\",\n",
       " \"Ko'ã manifestante omoî iñakãre ome'ê Yasyretã Argentina-pe, nota rupive.\\n\",\n",
       " \"Tavaygua ko'ã ary oñembyatýva calle España ha Soldado Desconocido  100 metro rupi oikohápe Cartes, ombotývo tape sapy'a py'a tavaguasúpe.\\n\",\n",
       " 'Ojehecha despliegue policial ohapejokóva manifestantekuéra Cartes róga rovái, ha ijerére.\\n']"
      ]
     },
     "execution_count": 69,
     "metadata": {},
     "output_type": "execute_result"
    }
   ],
   "source": [
    "data[\"gn\"][\"text\"][:5]"
   ]
  },
  {
   "cell_type": "code",
   "execution_count": 74,
   "metadata": {},
   "outputs": [
    {
     "name": "stdout",
     "output_type": "stream",
     "text": [
      "Batch completed:  0 - 100\n",
      "Batch completed:  1 - 200\n",
      "Batch completed:  2 - 300\n",
      "Batch completed:  3 - 400\n",
      "Batch completed:  4 - 500\n",
      "Batch completed:  5 - 600\n",
      "Batch completed:  6 - 700\n",
      "Batch completed:  7 - 800\n",
      "Batch completed:  8 - 900\n",
      "Batch completed:  9 - 1000\n",
      "Batch completed:  10 - 1100\n",
      "Batch completed:  11 - 1200\n",
      "Batch completed:  12 - 1300\n",
      "Batch completed:  13 - 1400\n",
      "Batch completed:  14 - 1500\n",
      "Batch completed:  15 - 1600\n",
      "Batch completed:  16 - 1700\n",
      "Batch completed:  17 - 1800\n",
      "Batch completed:  18 - 1900\n",
      "Batch completed:  19 - 2000\n",
      "Batch completed:  20 - 2100\n",
      "Batch completed:  21 - 2200\n",
      "Batch completed:  22 - 2300\n",
      "Batch completed:  23 - 2400\n",
      "Batch completed:  24 - 2500\n",
      "Batch completed:  25 - 2600\n",
      "Batch completed:  26 - 2700\n",
      "Batch completed:  27 - 2800\n",
      "Batch completed:  28 - 2900\n",
      "Batch completed:  29 - 3000\n",
      "Batch completed:  30 - 3100\n",
      "Batch completed:  31 - 3200\n",
      "Batch completed:  32 - 3300\n",
      "Batch completed:  33 - 3400\n",
      "Batch completed:  34 - 3500\n",
      "Batch completed:  35 - 3600\n",
      "Batch completed:  36 - 3700\n",
      "Batch completed:  37 - 3800\n",
      "Batch completed:  38 - 3900\n",
      "Batch completed:  39 - 4000\n",
      "Batch completed:  40 - 4100\n",
      "Batch completed:  41 - 4200\n",
      "Batch completed:  42 - 4300\n",
      "Batch completed:  43 - 4400\n",
      "Batch completed:  44 - 4500\n",
      "Batch completed:  45 - 4600\n",
      "Batch completed:  46 - 4700\n",
      "Batch completed:  47 - 4800\n",
      "Batch completed:  48 - 4900\n",
      "Batch completed:  49 - 5000\n",
      "Batch completed:  50 - 5100\n",
      "Batch completed:  51 - 5200\n",
      "Batch completed:  52 - 5300\n",
      "Batch completed:  53 - 5400\n",
      "Batch completed:  0 - 100\n",
      "Batch completed:  1 - 200\n",
      "Batch completed:  2 - 300\n",
      "Batch completed:  3 - 400\n",
      "Batch completed:  4 - 500\n",
      "Batch completed:  5 - 600\n",
      "Batch completed:  6 - 700\n",
      "Batch completed:  7 - 800\n",
      "Batch completed:  8 - 900\n",
      "Batch completed:  9 - 1000\n",
      "Batch completed:  10 - 1100\n",
      "Batch completed:  11 - 1200\n",
      "Batch completed:  12 - 1300\n",
      "Batch completed:  13 - 1400\n",
      "Batch completed:  14 - 1500\n",
      "Batch completed:  15 - 1600\n",
      "Batch completed:  16 - 1700\n",
      "Batch completed:  17 - 1800\n",
      "Batch completed:  18 - 1900\n",
      "Batch completed:  19 - 2000\n",
      "Batch completed:  20 - 2100\n",
      "Batch completed:  21 - 2200\n",
      "Batch completed:  22 - 2300\n",
      "Batch completed:  23 - 2400\n",
      "Batch completed:  24 - 2500\n",
      "Batch completed:  25 - 2600\n",
      "Batch completed:  26 - 2700\n",
      "Batch completed:  27 - 2800\n",
      "Batch completed:  28 - 2900\n",
      "Batch completed:  29 - 3000\n",
      "Batch completed:  30 - 3100\n",
      "Batch completed:  31 - 3200\n",
      "Batch completed:  32 - 3300\n",
      "Batch completed:  33 - 3400\n",
      "Batch completed:  34 - 3500\n",
      "Batch completed:  35 - 3600\n",
      "Batch completed:  36 - 3700\n",
      "Batch completed:  37 - 3800\n",
      "Batch completed:  38 - 3900\n",
      "Batch completed:  39 - 4000\n",
      "Batch completed:  40 - 4100\n",
      "Batch completed:  41 - 4200\n",
      "Batch completed:  42 - 4300\n",
      "Batch completed:  43 - 4400\n",
      "Batch completed:  44 - 4500\n",
      "Batch completed:  45 - 4600\n",
      "Batch completed:  46 - 4700\n",
      "Batch completed:  47 - 4800\n",
      "Batch completed:  48 - 4900\n",
      "Batch completed:  49 - 5000\n",
      "Batch completed:  50 - 5100\n",
      "Batch completed:  51 - 5200\n",
      "Batch completed:  52 - 5300\n",
      "Batch completed:  53 - 5400\n"
     ]
    }
   ],
   "source": [
    "batch_size = 100\n",
    "\n",
    "for idx, language in enumerate(data):\n",
    "    for idy, batch_text in enumerate([data[language][\"text\"][i:i+batch_size] for i in range(0, len(data[language][\"text\"]), batch_size)]):\n",
    "        translated_text = translate_text(batch_text, language, list(data.keys())[idx-1])\n",
    "        processed_translation = process_output(translated_text)\n",
    "        data[language][\"translation_text\"].extend(processed_translation)\n",
    "        print('Batch completed: ', idy, '-', batch_size*(idy+1))\n",
    "        time.sleep(1)\n",
    "                                       \n",
    "    with open(f'saved_{language}.txt', 'w', encoding='utf-8') as f:\n",
    "        f.writelines(''.join(data[language][\"translation_text\"]))"
   ]
  },
  {
   "cell_type": "markdown",
   "metadata": {},
   "source": [
    "# asd"
   ]
  },
  {
   "cell_type": "code",
   "execution_count": 26,
   "metadata": {},
   "outputs": [],
   "source": [
    "day = 1"
   ]
  },
  {
   "cell_type": "code",
   "execution_count": 29,
   "metadata": {},
   "outputs": [
    {
     "name": "stdout",
     "output_type": "stream",
     "text": [
      "day:  1 - 39\n",
      "Se sabe que es las chips más largas de la ciudad y ahora es el sándwich más largo.\n",
      "Error reading!! The read operation timed out\n",
      "day:  1 - 40\n",
      "También ha anunciado la llegada del equipo de transición y sucediendo al gobierno de Horacio Cartes para averiguar cómo es el estado hoy.\n",
      "Error reading!! The read operation timed out\n",
      "day:  1 - 41\n",
      "Cuando se le preguntó quién y quién sería incluido en el nuevo gabinete, Wiens dijo que aún no estaban presentes, qué senador Luis Castiglioni sabía que ingresaría al Ministerio de Relaciones Exteriores.\n",
      "day:  1 - 42\n",
      "y las listas que se pasan no lo son.\n",
      "Error reading!! The read operation timed out\n",
      "day:  1 - 43\n",
      "Recordó el día internacional del día de la caza de hoy\n",
      "day:  1 - 44\n",
      "El sábado 12 de mayo, se celebra el Día Internacional Internacional de Fibromialgia y, coincide con la Asociación de Fibromialía paraguayana para una marcha alrededor de la Asunción Costanera de Asunción.\n",
      "day:  1 - 45\n",
      "La Asociación de Fibromialgia del Paraguay, marchó el sábado desde las 5:00 p.m. desde Artigas Avenue hasta la Biblioteca del Congreso, a fines de las 7:00 p.m.\n",
      "day:  1 - 46\n",
      "Estas actividades conmemoran la noche de una conferencia sobre cómo experimentan pacientes con la enfermedad.\n",
      "day:  1 - 47\n",
      "Lo crearon en enero de 2017 y, por lo tanto, cooperaron para aliviar la enfermedad y juntos compraron medicina y, por lo tanto, no era costoso para ellos.\n",
      "day:  1 - 48\n",
      "Mone Money se pierde en la une\n",
      "day:  1 - 49\n",
      "Casi G. 10,000,000, el dinero recaudado por el pago de los aranceles, que faltan en la Facultad de Derecho y las Ciencias Sociales de la Universidad Nacional de Oriente.\n",
      "Error reading!! The read operation timed out\n",
      "day:  1 - 50\n",
      "La apertura oficial del Día Mundial de la Cleanidad es el anfitrión del Panteón de Héroes el sábado a las 12:00 p.m.\n",
      "day:  1 - 51\n",
      "Escalante dijo que hay una eliminación de la aplicación gratuita en una aplicación que puede descargar a través de Play Store con dispositivos Android o Apple Store para ingresar a la publicación.\n",
      "day:  1 - 52\n",
      "“En este lugar, puede reducir la aplicación que da paso a decir lo que siempre ha sucedido y luego la limpieza de la intervención.\n",
      "day:  1 - 53\n",
      "Lo saluda por aliento: cultura de limpieza ”.\n",
      "day:  1 - 54\n",
      "Catorce horas sin electricidad\n",
      "day:  1 - 55\n",
      "La comunidad de Olimpo y Carmelo Peralta pasó 14 horas sin electricidad con inconvenientes en un aislado, dijo Ande.\n",
      "day:  1 - 56\n",
      "El servicio tuvo lugar a las 8:00 p.m., según Carlos Montanaro, funcionarios regionales regionales de Ande, este problema se debió al daño de un pinzón de roca en Carmelo Peralta-Puerto Sastrito y para reunirse para suavizar porque la gestión de La agencia estatal.\n",
      "day:  1 - 57\n",
      "En esta situación, hay residentes del departamento que han prometido dar como donación a un dron al Ande, para renovar el control de la línea de salario eléctrico.\n",
      "Error reading!! The read operation timed out\n",
      "day:  1 - 58\n",
      "Fuerte Olimpo empleado en el motor del generador auxiliar de la mañana, ahora localidad en la paraguay superior tiene un dispositivo asistente.\n",
      "Error reading!! The read operation timed out\n",
      "day:  1 - 59\n",
      "Estas cosas se están haciendo en los recortes de energía eléctrica habituales y criticaron fuertemente el servicio de misioneros católicos en la vicaría apostólica del Chaco.\n",
      "Error reading!! The read operation timed out\n",
      "day:  1 - 60\n",
      "Hablaron con la configuración de comerciantes comerciantes mercado\n",
      "Error reading!! The read operation timed out\n",
      "day:  1 - 61\n",
      "“Está solicitando el ajuste de los comerciantes de Mercado 4 en el pasillo que demuestra que no está organizado.\n",
      "day:  1 - 62\n",
      "No está planeado para la reubicación ”, dijo Gladys Manculello, comerciante Fernando de la Mora.\n",
      "day:  1 - 63\n",
      "Entención!Cuando sales del país tienes que ver estas cosas\n",
      "Error reading!! The read operation timed out\n",
      "day:  1 - 64\n",
      "Touring y Automobile Club Paraguayo tienen un sitio web que le lee a un viajero que sepa cuando se va al extranjero.\n",
      "Error reading!! The read operation timed out\n",
      "day:  1 - 65\n",
      "Objetivo, interesante puede mirar el portal Tacpy.\n",
      "day:  1 - 66\n",
      "Por ejemplo, dijo que necesitaba tener un permiso internacional mediante la implementación, lo que debería tener en su nombre de que el documento es elegible para impulsar los vehículos, en la categoría del registro de la conducción nacional.\n",
      "day:  1 - 67\n",
      "Confirmó la inspección técnica vehicular, el control de seguridad vial en la ruta extranjera, de acuerdo con un quedan de vehículos motorizados de 0 km para la inspección excesiva en el territorio nacional.\n",
      "day:  1 - 68\n",
      "Él ve que el problema del valor de los viajeros de los niños de 10 años irá a los antecedentes y los niños y niños de 5 años utilizan silits de seguridad.\n",
      "day:  1 - 69\n",
      "UIP agradeció a Arro que enviara al extranjero\n",
      "Error reading!! The read operation timed out\n"
     ]
    },
    {
     "ename": "KeyboardInterrupt",
     "evalue": "",
     "output_type": "error",
     "traceback": [
      "\u001b[1;31m---------------------------------------------------------------------------\u001b[0m",
      "\u001b[1;31mReadTimeout\u001b[0m                               Traceback (most recent call last)",
      "\u001b[1;32mf:\\my_year2023\\PLN\\code\\MARIAN\\scripts\\benchmark\\augment.ipynb Cell 7\u001b[0m line \u001b[0;36m2\n\u001b[0;32m     <a href='vscode-notebook-cell:/f%3A/my_year2023/PLN/code/MARIAN/scripts/benchmark/augment.ipynb#W5sZmlsZQ%3D%3D?line=17'>18</a>\u001b[0m time\u001b[39m.\u001b[39msleep(\u001b[39m5\u001b[39m)\n\u001b[1;32m---> <a href='vscode-notebook-cell:/f%3A/my_year2023/PLN/code/MARIAN/scripts/benchmark/augment.ipynb#W5sZmlsZQ%3D%3D?line=19'>20</a>\u001b[0m translation \u001b[39m=\u001b[39m translate(text, \n\u001b[0;32m     <a href='vscode-notebook-cell:/f%3A/my_year2023/PLN/code/MARIAN/scripts/benchmark/augment.ipynb#W5sZmlsZQ%3D%3D?line=20'>21</a>\u001b[0m                         \u001b[39mlist\u001b[39;49m(data\u001b[39m.\u001b[39;49mkeys())[idx], \n\u001b[0;32m     <a href='vscode-notebook-cell:/f%3A/my_year2023/PLN/code/MARIAN/scripts/benchmark/augment.ipynb#W5sZmlsZQ%3D%3D?line=21'>22</a>\u001b[0m                         \u001b[39mlist\u001b[39;49m(data\u001b[39m.\u001b[39;49mkeys())[idx\u001b[39m-\u001b[39;49m\u001b[39m1\u001b[39;49m])\n\u001b[0;32m     <a href='vscode-notebook-cell:/f%3A/my_year2023/PLN/code/MARIAN/scripts/benchmark/augment.ipynb#W5sZmlsZQ%3D%3D?line=22'>23</a>\u001b[0m \u001b[39mprint\u001b[39m(\u001b[39m'\u001b[39m\u001b[39mday: \u001b[39m\u001b[39m'\u001b[39m, day, \u001b[39m'\u001b[39m\u001b[39m-\u001b[39m\u001b[39m'\u001b[39m, idy)\n",
      "\u001b[1;32mf:\\my_year2023\\PLN\\code\\MARIAN\\scripts\\benchmark\\augment.ipynb Cell 7\u001b[0m line \u001b[0;36m3\n\u001b[0;32m      <a href='vscode-notebook-cell:/f%3A/my_year2023/PLN/code/MARIAN/scripts/benchmark/augment.ipynb#W5sZmlsZQ%3D%3D?line=1'>2</a>\u001b[0m translator \u001b[39m=\u001b[39m Translator(service_urls\u001b[39m=\u001b[39m[\u001b[39m'\u001b[39m\u001b[39mtranslate.google.com\u001b[39m\u001b[39m'\u001b[39m], proxies\u001b[39m=\u001b[39m\u001b[39mNone\u001b[39;00m, timeout\u001b[39m=\u001b[39m\u001b[39mNone\u001b[39;00m)\n\u001b[1;32m----> <a href='vscode-notebook-cell:/f%3A/my_year2023/PLN/code/MARIAN/scripts/benchmark/augment.ipynb#W5sZmlsZQ%3D%3D?line=2'>3</a>\u001b[0m translation \u001b[39m=\u001b[39m translator\u001b[39m.\u001b[39;49mtranslate(text, \n\u001b[0;32m      <a href='vscode-notebook-cell:/f%3A/my_year2023/PLN/code/MARIAN/scripts/benchmark/augment.ipynb#W5sZmlsZQ%3D%3D?line=3'>4</a>\u001b[0m                                    src\u001b[39m=\u001b[39;49msource_language, \n\u001b[0;32m      <a href='vscode-notebook-cell:/f%3A/my_year2023/PLN/code/MARIAN/scripts/benchmark/augment.ipynb#W5sZmlsZQ%3D%3D?line=4'>5</a>\u001b[0m                                    dest\u001b[39m=\u001b[39;49mtarget_language)\n\u001b[0;32m      <a href='vscode-notebook-cell:/f%3A/my_year2023/PLN/code/MARIAN/scripts/benchmark/augment.ipynb#W5sZmlsZQ%3D%3D?line=5'>6</a>\u001b[0m \u001b[39mreturn\u001b[39;00m translation\u001b[39m.\u001b[39mtext\n",
      "File \u001b[1;32mf:\\AlexisF\\python\\lib\\site-packages\\googletrans\\client.py:194\u001b[0m, in \u001b[0;36mTranslator.translate\u001b[1;34m(self, text, dest, src)\u001b[0m\n\u001b[0;32m    193\u001b[0m origin \u001b[39m=\u001b[39m text\n\u001b[1;32m--> 194\u001b[0m data, response \u001b[39m=\u001b[39m \u001b[39mself\u001b[39;49m\u001b[39m.\u001b[39;49m_translate(text, dest, src)\n\u001b[0;32m    196\u001b[0m token_found \u001b[39m=\u001b[39m \u001b[39mFalse\u001b[39;00m\n",
      "File \u001b[1;32mf:\\AlexisF\\python\\lib\\site-packages\\googletrans\\client.py:120\u001b[0m, in \u001b[0;36mTranslator._translate\u001b[1;34m(self, text, dest, src)\u001b[0m\n\u001b[0;32m    112\u001b[0m params \u001b[39m=\u001b[39m {\n\u001b[0;32m    113\u001b[0m     \u001b[39m'\u001b[39m\u001b[39mrpcids\u001b[39m\u001b[39m'\u001b[39m: RPC_ID,\n\u001b[0;32m    114\u001b[0m     \u001b[39m'\u001b[39m\u001b[39mbl\u001b[39m\u001b[39m'\u001b[39m: \u001b[39m'\u001b[39m\u001b[39mboq_translate-webserver_20201207.13_p0\u001b[39m\u001b[39m'\u001b[39m,\n\u001b[1;32m   (...)\u001b[0m\n\u001b[0;32m    118\u001b[0m     \u001b[39m'\u001b[39m\u001b[39mrt\u001b[39m\u001b[39m'\u001b[39m: \u001b[39m'\u001b[39m\u001b[39mc\u001b[39m\u001b[39m'\u001b[39m,\n\u001b[0;32m    119\u001b[0m }\n\u001b[1;32m--> 120\u001b[0m r \u001b[39m=\u001b[39m \u001b[39mself\u001b[39;49m\u001b[39m.\u001b[39;49mclient\u001b[39m.\u001b[39;49mpost(url, params\u001b[39m=\u001b[39;49mparams, data\u001b[39m=\u001b[39;49mdata)\n\u001b[0;32m    122\u001b[0m \u001b[39mif\u001b[39;00m r\u001b[39m.\u001b[39mstatus_code \u001b[39m!=\u001b[39m \u001b[39m200\u001b[39m \u001b[39mand\u001b[39;00m \u001b[39mself\u001b[39m\u001b[39m.\u001b[39mraise_Exception:\n",
      "File \u001b[1;32mf:\\AlexisF\\python\\lib\\site-packages\\httpx\\_client.py:824\u001b[0m, in \u001b[0;36mClient.post\u001b[1;34m(self, url, data, files, json, params, headers, cookies, auth, allow_redirects, timeout)\u001b[0m\n\u001b[0;32m    810\u001b[0m \u001b[39mdef\u001b[39;00m \u001b[39mpost\u001b[39m(\n\u001b[0;32m    811\u001b[0m     \u001b[39mself\u001b[39m,\n\u001b[0;32m    812\u001b[0m     url: URLTypes,\n\u001b[1;32m   (...)\u001b[0m\n\u001b[0;32m    822\u001b[0m     timeout: typing\u001b[39m.\u001b[39mUnion[TimeoutTypes, UnsetType] \u001b[39m=\u001b[39m UNSET,\n\u001b[0;32m    823\u001b[0m ) \u001b[39m-\u001b[39m\u001b[39m>\u001b[39m Response:\n\u001b[1;32m--> 824\u001b[0m     \u001b[39mreturn\u001b[39;00m \u001b[39mself\u001b[39;49m\u001b[39m.\u001b[39;49mrequest(\n\u001b[0;32m    825\u001b[0m         \u001b[39m\"\u001b[39;49m\u001b[39mPOST\u001b[39;49m\u001b[39m\"\u001b[39;49m,\n\u001b[0;32m    826\u001b[0m         url,\n\u001b[0;32m    827\u001b[0m         data\u001b[39m=\u001b[39;49mdata,\n\u001b[0;32m    828\u001b[0m         files\u001b[39m=\u001b[39;49mfiles,\n\u001b[0;32m    829\u001b[0m         json\u001b[39m=\u001b[39;49mjson,\n\u001b[0;32m    830\u001b[0m         params\u001b[39m=\u001b[39;49mparams,\n\u001b[0;32m    831\u001b[0m         headers\u001b[39m=\u001b[39;49mheaders,\n\u001b[0;32m    832\u001b[0m         cookies\u001b[39m=\u001b[39;49mcookies,\n\u001b[0;32m    833\u001b[0m         auth\u001b[39m=\u001b[39;49mauth,\n\u001b[0;32m    834\u001b[0m         allow_redirects\u001b[39m=\u001b[39;49mallow_redirects,\n\u001b[0;32m    835\u001b[0m         timeout\u001b[39m=\u001b[39;49mtimeout,\n\u001b[0;32m    836\u001b[0m     )\n",
      "File \u001b[1;32mf:\\AlexisF\\python\\lib\\site-packages\\httpx\\_client.py:600\u001b[0m, in \u001b[0;36mClient.request\u001b[1;34m(self, method, url, data, files, json, params, headers, cookies, auth, allow_redirects, timeout)\u001b[0m\n\u001b[0;32m    590\u001b[0m request \u001b[39m=\u001b[39m \u001b[39mself\u001b[39m\u001b[39m.\u001b[39mbuild_request(\n\u001b[0;32m    591\u001b[0m     method\u001b[39m=\u001b[39mmethod,\n\u001b[0;32m    592\u001b[0m     url\u001b[39m=\u001b[39murl,\n\u001b[1;32m   (...)\u001b[0m\n\u001b[0;32m    598\u001b[0m     cookies\u001b[39m=\u001b[39mcookies,\n\u001b[0;32m    599\u001b[0m )\n\u001b[1;32m--> 600\u001b[0m \u001b[39mreturn\u001b[39;00m \u001b[39mself\u001b[39;49m\u001b[39m.\u001b[39;49msend(\n\u001b[0;32m    601\u001b[0m     request, auth\u001b[39m=\u001b[39;49mauth, allow_redirects\u001b[39m=\u001b[39;49mallow_redirects, timeout\u001b[39m=\u001b[39;49mtimeout,\n\u001b[0;32m    602\u001b[0m )\n",
      "File \u001b[1;32mf:\\AlexisF\\python\\lib\\site-packages\\httpx\\_client.py:620\u001b[0m, in \u001b[0;36mClient.send\u001b[1;34m(self, request, stream, auth, allow_redirects, timeout)\u001b[0m\n\u001b[0;32m    618\u001b[0m auth \u001b[39m=\u001b[39m \u001b[39mself\u001b[39m\u001b[39m.\u001b[39mbuild_auth(request, auth)\n\u001b[1;32m--> 620\u001b[0m response \u001b[39m=\u001b[39m \u001b[39mself\u001b[39;49m\u001b[39m.\u001b[39;49msend_handling_redirects(\n\u001b[0;32m    621\u001b[0m     request, auth\u001b[39m=\u001b[39;49mauth, timeout\u001b[39m=\u001b[39;49mtimeout, allow_redirects\u001b[39m=\u001b[39;49mallow_redirects,\n\u001b[0;32m    622\u001b[0m )\n\u001b[0;32m    624\u001b[0m \u001b[39mif\u001b[39;00m \u001b[39mnot\u001b[39;00m stream:\n",
      "File \u001b[1;32mf:\\AlexisF\\python\\lib\\site-packages\\httpx\\_client.py:647\u001b[0m, in \u001b[0;36mClient.send_handling_redirects\u001b[1;34m(self, request, auth, timeout, allow_redirects, history)\u001b[0m\n\u001b[0;32m    645\u001b[0m     \u001b[39mraise\u001b[39;00m TooManyRedirects()\n\u001b[1;32m--> 647\u001b[0m response \u001b[39m=\u001b[39m \u001b[39mself\u001b[39;49m\u001b[39m.\u001b[39;49msend_handling_auth(\n\u001b[0;32m    648\u001b[0m     request, auth\u001b[39m=\u001b[39;49mauth, timeout\u001b[39m=\u001b[39;49mtimeout, history\u001b[39m=\u001b[39;49mhistory\n\u001b[0;32m    649\u001b[0m )\n\u001b[0;32m    650\u001b[0m response\u001b[39m.\u001b[39mhistory \u001b[39m=\u001b[39m \u001b[39mlist\u001b[39m(history)\n",
      "File \u001b[1;32mf:\\AlexisF\\python\\lib\\site-packages\\httpx\\_client.py:684\u001b[0m, in \u001b[0;36mClient.send_handling_auth\u001b[1;34m(self, request, history, auth, timeout)\u001b[0m\n\u001b[0;32m    683\u001b[0m \u001b[39mwhile\u001b[39;00m \u001b[39mTrue\u001b[39;00m:\n\u001b[1;32m--> 684\u001b[0m     response \u001b[39m=\u001b[39m \u001b[39mself\u001b[39;49m\u001b[39m.\u001b[39;49msend_single_request(request, timeout)\n\u001b[0;32m    685\u001b[0m     \u001b[39mif\u001b[39;00m auth\u001b[39m.\u001b[39mrequires_response_body:\n",
      "File \u001b[1;32mf:\\AlexisF\\python\\lib\\site-packages\\httpx\\_client.py:714\u001b[0m, in \u001b[0;36mClient.send_single_request\u001b[1;34m(self, request, timeout)\u001b[0m\n\u001b[0;32m    707\u001b[0m \u001b[39mtry\u001b[39;00m:\n\u001b[0;32m    708\u001b[0m     (\n\u001b[0;32m    709\u001b[0m         http_version,\n\u001b[0;32m    710\u001b[0m         status_code,\n\u001b[0;32m    711\u001b[0m         reason_phrase,\n\u001b[0;32m    712\u001b[0m         headers,\n\u001b[0;32m    713\u001b[0m         stream,\n\u001b[1;32m--> 714\u001b[0m     ) \u001b[39m=\u001b[39m transport\u001b[39m.\u001b[39;49mrequest(\n\u001b[0;32m    715\u001b[0m         request\u001b[39m.\u001b[39;49mmethod\u001b[39m.\u001b[39;49mencode(),\n\u001b[0;32m    716\u001b[0m         request\u001b[39m.\u001b[39;49murl\u001b[39m.\u001b[39;49mraw,\n\u001b[0;32m    717\u001b[0m         headers\u001b[39m=\u001b[39;49mrequest\u001b[39m.\u001b[39;49mheaders\u001b[39m.\u001b[39;49mraw,\n\u001b[0;32m    718\u001b[0m         stream\u001b[39m=\u001b[39;49mrequest\u001b[39m.\u001b[39;49mstream,\n\u001b[0;32m    719\u001b[0m         timeout\u001b[39m=\u001b[39;49mtimeout\u001b[39m.\u001b[39;49mas_dict(),\n\u001b[0;32m    720\u001b[0m     )\n\u001b[0;32m    721\u001b[0m \u001b[39mexcept\u001b[39;00m HTTPError \u001b[39mas\u001b[39;00m exc:\n\u001b[0;32m    722\u001b[0m     \u001b[39m# Add the original request to any HTTPError unless\u001b[39;00m\n\u001b[0;32m    723\u001b[0m     \u001b[39m# there'a already a request attached in the case of\u001b[39;00m\n\u001b[0;32m    724\u001b[0m     \u001b[39m# a ProxyError.\u001b[39;00m\n",
      "File \u001b[1;32mf:\\AlexisF\\python\\lib\\site-packages\\httpcore\\_sync\\connection_pool.py:152\u001b[0m, in \u001b[0;36mSyncConnectionPool.request\u001b[1;34m(self, method, url, headers, stream, timeout)\u001b[0m\n\u001b[0;32m    151\u001b[0m \u001b[39mtry\u001b[39;00m:\n\u001b[1;32m--> 152\u001b[0m     response \u001b[39m=\u001b[39m connection\u001b[39m.\u001b[39;49mrequest(\n\u001b[0;32m    153\u001b[0m         method, url, headers\u001b[39m=\u001b[39;49mheaders, stream\u001b[39m=\u001b[39;49mstream, timeout\u001b[39m=\u001b[39;49mtimeout\n\u001b[0;32m    154\u001b[0m     )\n\u001b[0;32m    155\u001b[0m \u001b[39mexcept\u001b[39;00m NewConnectionRequired:\n",
      "File \u001b[1;32mf:\\AlexisF\\python\\lib\\site-packages\\httpcore\\_sync\\connection.py:78\u001b[0m, in \u001b[0;36mSyncHTTPConnection.request\u001b[1;34m(self, method, url, headers, stream, timeout)\u001b[0m\n\u001b[0;32m     75\u001b[0m logger\u001b[39m.\u001b[39mtrace(\n\u001b[0;32m     76\u001b[0m     \u001b[39m\"\u001b[39m\u001b[39mconnection.request method=\u001b[39m\u001b[39m%r\u001b[39;00m\u001b[39m url=\u001b[39m\u001b[39m%r\u001b[39;00m\u001b[39m headers=\u001b[39m\u001b[39m%r\u001b[39;00m\u001b[39m\"\u001b[39m, method, url, headers\n\u001b[0;32m     77\u001b[0m )\n\u001b[1;32m---> 78\u001b[0m \u001b[39mreturn\u001b[39;00m \u001b[39mself\u001b[39;49m\u001b[39m.\u001b[39;49mconnection\u001b[39m.\u001b[39;49mrequest(method, url, headers, stream, timeout)\n",
      "File \u001b[1;32mf:\\AlexisF\\python\\lib\\site-packages\\httpcore\\_sync\\http2.py:118\u001b[0m, in \u001b[0;36mSyncHTTP2Connection.request\u001b[1;34m(self, method, url, headers, stream, timeout)\u001b[0m\n\u001b[0;32m    117\u001b[0m     \u001b[39mself\u001b[39m\u001b[39m.\u001b[39mevents[stream_id] \u001b[39m=\u001b[39m []\n\u001b[1;32m--> 118\u001b[0m     \u001b[39mreturn\u001b[39;00m h2_stream\u001b[39m.\u001b[39;49mrequest(method, url, headers, stream, timeout)\n\u001b[0;32m    119\u001b[0m \u001b[39mexcept\u001b[39;00m \u001b[39mException\u001b[39;00m:\n",
      "File \u001b[1;32mf:\\AlexisF\\python\\lib\\site-packages\\httpcore\\_sync\\http2.py:292\u001b[0m, in \u001b[0;36mSyncHTTP2Stream.request\u001b[1;34m(self, method, url, headers, stream, timeout)\u001b[0m\n\u001b[0;32m    291\u001b[0m \u001b[39m# Receive the response.\u001b[39;00m\n\u001b[1;32m--> 292\u001b[0m status_code, headers \u001b[39m=\u001b[39m \u001b[39mself\u001b[39;49m\u001b[39m.\u001b[39;49mreceive_response(timeout)\n\u001b[0;32m    293\u001b[0m reason_phrase \u001b[39m=\u001b[39m get_reason_phrase(status_code)\n",
      "File \u001b[1;32mf:\\AlexisF\\python\\lib\\site-packages\\httpcore\\_sync\\http2.py:344\u001b[0m, in \u001b[0;36mSyncHTTP2Stream.receive_response\u001b[1;34m(self, timeout)\u001b[0m\n\u001b[0;32m    343\u001b[0m \u001b[39mwhile\u001b[39;00m \u001b[39mTrue\u001b[39;00m:\n\u001b[1;32m--> 344\u001b[0m     event \u001b[39m=\u001b[39m \u001b[39mself\u001b[39;49m\u001b[39m.\u001b[39;49mconnection\u001b[39m.\u001b[39;49mwait_for_event(\u001b[39mself\u001b[39;49m\u001b[39m.\u001b[39;49mstream_id, timeout)\n\u001b[0;32m    345\u001b[0m     \u001b[39mif\u001b[39;00m \u001b[39misinstance\u001b[39m(event, h2\u001b[39m.\u001b[39mevents\u001b[39m.\u001b[39mResponseReceived):\n",
      "File \u001b[1;32mf:\\AlexisF\\python\\lib\\site-packages\\httpcore\\_sync\\http2.py:197\u001b[0m, in \u001b[0;36mSyncHTTP2Connection.wait_for_event\u001b[1;34m(self, stream_id, timeout)\u001b[0m\n\u001b[0;32m    196\u001b[0m     \u001b[39mwhile\u001b[39;00m \u001b[39mnot\u001b[39;00m \u001b[39mself\u001b[39m\u001b[39m.\u001b[39mevents[stream_id]:\n\u001b[1;32m--> 197\u001b[0m         \u001b[39mself\u001b[39;49m\u001b[39m.\u001b[39;49mreceive_events(timeout)\n\u001b[0;32m    198\u001b[0m \u001b[39mreturn\u001b[39;00m \u001b[39mself\u001b[39m\u001b[39m.\u001b[39mevents[stream_id]\u001b[39m.\u001b[39mpop(\u001b[39m0\u001b[39m)\n",
      "File \u001b[1;32mf:\\AlexisF\\python\\lib\\site-packages\\httpcore\\_sync\\http2.py:204\u001b[0m, in \u001b[0;36mSyncHTTP2Connection.receive_events\u001b[1;34m(self, timeout)\u001b[0m\n\u001b[0;32m    201\u001b[0m \u001b[39m\"\"\"\u001b[39;00m\n\u001b[0;32m    202\u001b[0m \u001b[39mRead some data from the network, and update the H2 state.\u001b[39;00m\n\u001b[0;32m    203\u001b[0m \u001b[39m\"\"\"\u001b[39;00m\n\u001b[1;32m--> 204\u001b[0m data \u001b[39m=\u001b[39m \u001b[39mself\u001b[39;49m\u001b[39m.\u001b[39;49msocket\u001b[39m.\u001b[39;49mread(\u001b[39mself\u001b[39;49m\u001b[39m.\u001b[39;49mREAD_NUM_BYTES, timeout)\n\u001b[0;32m    205\u001b[0m events \u001b[39m=\u001b[39m \u001b[39mself\u001b[39m\u001b[39m.\u001b[39mh2_state\u001b[39m.\u001b[39mreceive_data(data)\n",
      "File \u001b[1;32mf:\\AlexisF\\python\\lib\\site-packages\\httpcore\\_backends\\sync.py:62\u001b[0m, in \u001b[0;36mSyncSocketStream.read\u001b[1;34m(self, n, timeout)\u001b[0m\n\u001b[0;32m     61\u001b[0m \u001b[39mself\u001b[39m\u001b[39m.\u001b[39msock\u001b[39m.\u001b[39msettimeout(read_timeout)\n\u001b[1;32m---> 62\u001b[0m \u001b[39mreturn\u001b[39;00m \u001b[39mself\u001b[39m\u001b[39m.\u001b[39msock\u001b[39m.\u001b[39mrecv(n)\n",
      "File \u001b[1;32mf:\\AlexisF\\python\\lib\\contextlib.py:135\u001b[0m, in \u001b[0;36m_GeneratorContextManager.__exit__\u001b[1;34m(self, type, value, traceback)\u001b[0m\n\u001b[0;32m    134\u001b[0m \u001b[39mtry\u001b[39;00m:\n\u001b[1;32m--> 135\u001b[0m     \u001b[39mself\u001b[39;49m\u001b[39m.\u001b[39;49mgen\u001b[39m.\u001b[39;49mthrow(\u001b[39mtype\u001b[39;49m, value, traceback)\n\u001b[0;32m    136\u001b[0m \u001b[39mexcept\u001b[39;00m \u001b[39mStopIteration\u001b[39;00m \u001b[39mas\u001b[39;00m exc:\n\u001b[0;32m    137\u001b[0m     \u001b[39m# Suppress StopIteration *unless* it's the same exception that\u001b[39;00m\n\u001b[0;32m    138\u001b[0m     \u001b[39m# was passed to throw().  This prevents a StopIteration\u001b[39;00m\n\u001b[0;32m    139\u001b[0m     \u001b[39m# raised inside the \"with\" statement from being suppressed.\u001b[39;00m\n",
      "File \u001b[1;32mf:\\AlexisF\\python\\lib\\site-packages\\httpcore\\_exceptions.py:12\u001b[0m, in \u001b[0;36mmap_exceptions\u001b[1;34m(map)\u001b[0m\n\u001b[0;32m     11\u001b[0m     \u001b[39mif\u001b[39;00m \u001b[39misinstance\u001b[39m(exc, from_exc):\n\u001b[1;32m---> 12\u001b[0m         \u001b[39mraise\u001b[39;00m to_exc(exc) \u001b[39mfrom\u001b[39;00m \u001b[39mNone\u001b[39m\n\u001b[0;32m     13\u001b[0m \u001b[39mraise\u001b[39;00m\n",
      "\u001b[1;31mReadTimeout\u001b[0m: The read operation timed out",
      "\nDuring handling of the above exception, another exception occurred:\n",
      "\u001b[1;31mKeyboardInterrupt\u001b[0m                         Traceback (most recent call last)",
      "\u001b[1;32mf:\\my_year2023\\PLN\\code\\MARIAN\\scripts\\benchmark\\augment.ipynb Cell 7\u001b[0m line \u001b[0;36m3\n\u001b[0;32m     <a href='vscode-notebook-cell:/f%3A/my_year2023/PLN/code/MARIAN/scripts/benchmark/augment.ipynb#W5sZmlsZQ%3D%3D?line=28'>29</a>\u001b[0m \u001b[39mexcept\u001b[39;00m \u001b[39mException\u001b[39;00m \u001b[39mas\u001b[39;00m e:\n\u001b[0;32m     <a href='vscode-notebook-cell:/f%3A/my_year2023/PLN/code/MARIAN/scripts/benchmark/augment.ipynb#W5sZmlsZQ%3D%3D?line=29'>30</a>\u001b[0m     \u001b[39mprint\u001b[39m(\u001b[39m\"\u001b[39m\u001b[39mError reading!!\u001b[39m\u001b[39m\"\u001b[39m, e)\n\u001b[1;32m---> <a href='vscode-notebook-cell:/f%3A/my_year2023/PLN/code/MARIAN/scripts/benchmark/augment.ipynb#W5sZmlsZQ%3D%3D?line=30'>31</a>\u001b[0m     time\u001b[39m.\u001b[39;49msleep(\u001b[39m60\u001b[39;49m)\n",
      "\u001b[1;31mKeyboardInterrupt\u001b[0m: "
     ]
    }
   ],
   "source": [
    "last_language = list(data.keys())[0]\n",
    "while True:\n",
    "    try:\n",
    "        for idx, language in enumerate(data):\n",
    "            if language != last_language:\n",
    "                day = 1\n",
    "\n",
    "            for idy, text in enumerate(data[language][\"text\"]):\n",
    "\n",
    "                if len(data[language][\"translation_text\"]) -1 >= idy:\n",
    "                    continue\n",
    "\n",
    "                if len(data[language][\"translation_text\"]) > day * 990:\n",
    "                    day += 1\n",
    "                    print(\"Sleeping for 1 hour\")\n",
    "                    time.sleep(3600)\n",
    "                \n",
    "                time.sleep(5)\n",
    "\n",
    "                translation = translate(text, \n",
    "                                        list(data.keys())[idx], \n",
    "                                        list(data.keys())[idx-1])\n",
    "                print('day: ', day, '-', idy)\n",
    "                print(translation)\n",
    "\n",
    "                data[language][\"translation_text\"].append(translation)\n",
    "\n",
    "            last_language = language\n",
    "    except Exception as e:\n",
    "        print(\"Error reading!!\", e)\n",
    "        time.sleep(60)\n"
   ]
  },
  {
   "cell_type": "code",
   "execution_count": 31,
   "metadata": {},
   "outputs": [],
   "source": [
    "for language in data:\n",
    "    with open(f'saved_{language}_{day}.txt', 'w', encoding='utf-8') as f:\n",
    "        f.writelines('\\n'.join(data[language][\"translation_text\"]))"
   ]
  }
 ],
 "metadata": {
  "kernelspec": {
   "display_name": "Python 3",
   "language": "python",
   "name": "python3"
  },
  "language_info": {
   "codemirror_mode": {
    "name": "ipython",
    "version": 3
   },
   "file_extension": ".py",
   "mimetype": "text/x-python",
   "name": "python",
   "nbconvert_exporter": "python",
   "pygments_lexer": "ipython3",
   "version": "3.9.6"
  },
  "orig_nbformat": 4
 },
 "nbformat": 4,
 "nbformat_minor": 2
}
